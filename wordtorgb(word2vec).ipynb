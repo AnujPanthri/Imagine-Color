{
  "nbformat": 4,
  "nbformat_minor": 0,
  "metadata": {
    "colab": {
      "name": "wordtorgb(word2vec).ipynb",
      "provenance": [],
      "collapsed_sections": []
    },
    "kernelspec": {
      "display_name": "Python 3",
      "name": "python3"
    },
    "language_info": {
      "name": "python"
    }
  },
  "cells": [
    {
      "cell_type": "code",
      "metadata": {
        "id": "U02P-pWFJeGE"
      },
      "source": [
        "import gensim.downloader\n",
        "import numpy as np\n",
        "import pandas as pd\n",
        "from keras.models import Model\n",
        "from keras.layers import Dense, Input, Dropout, LSTM,GRU, Activation,BatchNormalization\n",
        "from keras.layers.embeddings import Embedding\n",
        "from keras.utils import to_categorical\n",
        "from tensorflow.python.keras.preprocessing.text import Tokenizer"
      ],
      "execution_count": 225,
      "outputs": []
    },
    {
      "cell_type": "code",
      "metadata": {
        "colab": {
          "base_uri": "https://localhost:8080/"
        },
        "id": "1_VHyr9vJjln",
        "outputId": "ac3955d9-a1cb-49af-d81b-370818335545"
      },
      "source": [
        "print(list(gensim.downloader.info()['models'].keys()))"
      ],
      "execution_count": 226,
      "outputs": [
        {
          "output_type": "stream",
          "text": [
            "['fasttext-wiki-news-subwords-300', 'conceptnet-numberbatch-17-06-300', 'word2vec-ruscorpora-300', 'word2vec-google-news-300', 'glove-wiki-gigaword-50', 'glove-wiki-gigaword-100', 'glove-wiki-gigaword-200', 'glove-wiki-gigaword-300', 'glove-twitter-25', 'glove-twitter-50', 'glove-twitter-100', 'glove-twitter-200', '__testing_word2vec-matrix-synopsis']\n"
          ],
          "name": "stdout"
        }
      ]
    },
    {
      "cell_type": "code",
      "metadata": {
        "id": "23yb1S7iWr7-"
      },
      "source": [
        "# import pandas as pd\n",
        "\n",
        "# data=pd.read_csv('talking about colors.csv')\n",
        "# data['Data']=data['Data'].str.lower()\n",
        "# sentences=data['Data'].values"
      ],
      "execution_count": 3,
      "outputs": []
    },
    {
      "cell_type": "code",
      "metadata": {
        "id": "V3lL4Y2hcN67"
      },
      "source": [
        "# sentences\n",
        "# t=Tokenizer()\n",
        "# t.fit_on_texts(sentences)"
      ],
      "execution_count": 4,
      "outputs": []
    },
    {
      "cell_type": "code",
      "metadata": {
        "id": "DpW8HaUbcPXN"
      },
      "source": [
        "# tokenized_list=t.word_docs.keys()"
      ],
      "execution_count": 5,
      "outputs": []
    },
    {
      "cell_type": "code",
      "metadata": {
        "colab": {
          "base_uri": "https://localhost:8080/"
        },
        "id": "SST_kKfUcpaZ",
        "outputId": "df034630-9d44-48d3-c425-fb77dcf739e5"
      },
      "source": [
        "import nltk\n",
        "nltk.download('punkt')"
      ],
      "execution_count": 6,
      "outputs": [
        {
          "output_type": "stream",
          "text": [
            "[nltk_data] Downloading package punkt to /root/nltk_data...\n",
            "[nltk_data]   Unzipping tokenizers/punkt.zip.\n"
          ],
          "name": "stdout"
        },
        {
          "output_type": "execute_result",
          "data": {
            "text/plain": [
              "True"
            ]
          },
          "metadata": {
            "tags": []
          },
          "execution_count": 6
        }
      ]
    },
    {
      "cell_type": "code",
      "metadata": {
        "id": "RUP67mcZczjJ"
      },
      "source": [
        "#tokenized_list=[nltk.word_tokenize(sentence) for sentence in sentences]"
      ],
      "execution_count": 7,
      "outputs": []
    },
    {
      "cell_type": "code",
      "metadata": {
        "id": "XN2O4-VJdUSp"
      },
      "source": [
        "# tokenized_list"
      ],
      "execution_count": 8,
      "outputs": []
    },
    {
      "cell_type": "code",
      "metadata": {
        "id": "xE6q3ZCjW5Xs"
      },
      "source": [
        "\n",
        "# from gensim.test.utils import common_texts\n",
        "# from gensim.models import Word2Vec\n",
        "\n",
        "# word_vectors=Word2Vec(sentences=tokenized_list, size=100, min_count=1)"
      ],
      "execution_count": 9,
      "outputs": []
    },
    {
      "cell_type": "code",
      "metadata": {
        "id": "BCbMihgQay1W"
      },
      "source": [
        "# len(word_vectors.wv.vocab)"
      ],
      "execution_count": 10,
      "outputs": []
    },
    {
      "cell_type": "code",
      "metadata": {
        "id": "TA8TH8YZZ1hG"
      },
      "source": [
        "# word_vectors.wv.vocab"
      ],
      "execution_count": 11,
      "outputs": []
    },
    {
      "cell_type": "code",
      "metadata": {
        "id": "hdpHC7PMYrwO"
      },
      "source": [
        "# word_vectors['red']"
      ],
      "execution_count": 12,
      "outputs": []
    },
    {
      "cell_type": "code",
      "metadata": {
        "colab": {
          "base_uri": "https://localhost:8080/"
        },
        "id": "3_XDNpd-Jold",
        "outputId": "5e921ec9-304f-49de-ee4a-c51453cbca5c"
      },
      "source": [
        "word_vectors = gensim.downloader.load('glove-wiki-gigaword-100')"
      ],
      "execution_count": 13,
      "outputs": [
        {
          "output_type": "stream",
          "text": [
            "[==================================================] 100.0% 128.1/128.1MB downloaded\n"
          ],
          "name": "stdout"
        }
      ]
    },
    {
      "cell_type": "code",
      "metadata": {
        "colab": {
          "base_uri": "https://localhost:8080/"
        },
        "id": "BN5s_Unnf1vR",
        "outputId": "9315e87e-6e0e-475d-a367-f5bcf5c40708"
      },
      "source": [
        "len(word_vectors.wv.vocab)\n",
        "vocab_list=list(word_vectors.wv.vocab)"
      ],
      "execution_count": 14,
      "outputs": [
        {
          "output_type": "stream",
          "text": [
            "/usr/local/lib/python3.7/dist-packages/ipykernel_launcher.py:1: DeprecationWarning: Call to deprecated `wv` (Attribute will be removed in 4.0.0, use self instead).\n",
            "  \"\"\"Entry point for launching an IPython kernel.\n",
            "/usr/local/lib/python3.7/dist-packages/ipykernel_launcher.py:2: DeprecationWarning: Call to deprecated `wv` (Attribute will be removed in 4.0.0, use self instead).\n",
            "  \n"
          ],
          "name": "stderr"
        }
      ]
    },
    {
      "cell_type": "code",
      "metadata": {
        "id": "0hLocBLDRxd6"
      },
      "source": [
        "vocab_dict={vocab_list[i]:i for i in range(len(vocab_list))}"
      ],
      "execution_count": 15,
      "outputs": []
    },
    {
      "cell_type": "code",
      "metadata": {
        "colab": {
          "base_uri": "https://localhost:8080/"
        },
        "id": "obTicY2TSnsv",
        "outputId": "4f77bc01-d033-41ab-823c-a35cd4ba98b9"
      },
      "source": [
        "len(vocab_dict)"
      ],
      "execution_count": 16,
      "outputs": [
        {
          "output_type": "execute_result",
          "data": {
            "text/plain": [
              "400000"
            ]
          },
          "metadata": {
            "tags": []
          },
          "execution_count": 16
        }
      ]
    },
    {
      "cell_type": "code",
      "metadata": {
        "id": "6KdsQEvLJ9OP",
        "colab": {
          "base_uri": "https://localhost:8080/"
        },
        "outputId": "829eaa62-9521-44d3-ed6f-b3b025729d68"
      },
      "source": [
        "word_vectors['red']"
      ],
      "execution_count": 17,
      "outputs": [
        {
          "output_type": "execute_result",
          "data": {
            "text/plain": [
              "array([-0.30017 ,  0.50145 , -0.12753 , -0.81638 ,  0.33615 ,  0.32211 ,\n",
              "       -0.04737 ,  0.037144, -0.61578 , -0.22329 , -0.39129 , -0.31887 ,\n",
              "        0.87088 ,  0.74448 ,  0.23713 ,  0.3177  ,  0.61322 , -0.48161 ,\n",
              "        0.55453 , -0.48773 , -0.11872 ,  0.15195 , -0.43884 ,  0.045212,\n",
              "        0.66663 ,  0.64416 , -0.2181  , -0.24217 ,  0.17653 , -0.71786 ,\n",
              "        0.48887 ,  0.22873 ,  0.080043,  0.12238 ,  0.18637 ,  0.20522 ,\n",
              "       -0.35139 ,  0.83166 ,  0.86578 ,  0.33401 ,  0.44511 , -0.9813  ,\n",
              "       -0.10451 , -0.10196 ,  0.65488 ,  0.10677 , -0.095314,  0.5637  ,\n",
              "        0.048797, -0.10838 ,  0.10542 ,  0.0412  , -0.29388 ,  1.0227  ,\n",
              "       -0.86572 , -2.5878  , -0.50076 ,  0.97575 ,  1.556   ,  0.45211 ,\n",
              "       -0.54279 ,  0.81993 , -0.60832 ,  0.19918 ,  0.7497  , -0.39138 ,\n",
              "        0.060502, -0.056905, -0.012081,  0.062096,  0.070589, -0.47981 ,\n",
              "       -0.86613 , -0.59337 ,  0.57646 ,  0.98374 , -0.035101,  0.42026 ,\n",
              "       -0.40591 ,  0.35105 ,  0.87392 , -0.06941 , -0.68686 ,  0.18598 ,\n",
              "       -0.36898 , -0.021812, -0.10141 , -0.03758 ,  0.56817 ,  0.74382 ,\n",
              "       -0.28706 , -1.0705  , -0.50701 , -0.12577 , -0.90402 , -0.25593 ,\n",
              "       -1.3706  ,  0.17312 ,  0.12926 , -0.48525 ], dtype=float32)"
            ]
          },
          "metadata": {
            "tags": []
          },
          "execution_count": 17
        }
      ]
    },
    {
      "cell_type": "code",
      "metadata": {
        "colab": {
          "base_uri": "https://localhost:8080/"
        },
        "id": "2LuuYfTbNsPx",
        "outputId": "a101f69b-2cc0-4812-d494-81a072247c2d"
      },
      "source": [
        "word_vectors.most_similar(\"red\")"
      ],
      "execution_count": 18,
      "outputs": [
        {
          "output_type": "execute_result",
          "data": {
            "text/plain": [
              "[('yellow', 0.8597683310508728),\n",
              " ('blue', 0.8435065746307373),\n",
              " ('green', 0.8204778432846069),\n",
              " ('black', 0.7679567337036133),\n",
              " ('white', 0.7675363421440125),\n",
              " ('purple', 0.7657994031906128),\n",
              " ('pink', 0.7491968870162964),\n",
              " ('orange', 0.7140781283378601),\n",
              " ('dark', 0.699396014213562),\n",
              " ('gray', 0.6913918256759644)]"
            ]
          },
          "metadata": {
            "tags": []
          },
          "execution_count": 18
        }
      ]
    },
    {
      "cell_type": "code",
      "metadata": {
        "id": "mFxNQMflQGC0"
      },
      "source": [
        "# sentences"
      ],
      "execution_count": 19,
      "outputs": []
    },
    {
      "cell_type": "code",
      "metadata": {
        "id": "99I8NOHhOYrc"
      },
      "source": [
        "# word_vectors.train([[\"hello\", \"world\"]], total_examples=1, epochs=1)"
      ],
      "execution_count": 20,
      "outputs": []
    },
    {
      "cell_type": "markdown",
      "metadata": {
        "id": "__KBqdFbNsIQ"
      },
      "source": [
        "We import Training Data here:\n"
      ]
    },
    {
      "cell_type": "code",
      "metadata": {
        "colab": {
          "base_uri": "https://localhost:8080/",
          "height": 195
        },
        "id": "nD6jDAzfSYhb",
        "outputId": "a29565f2-9e4d-4265-f5c5-f8640e9ba528"
      },
      "source": [
        "data=pd.read_csv('color_name_to_colors.csv')\n",
        "data['Name']=data['Name'].str.lower()\n",
        "data.head()"
      ],
      "execution_count": 725,
      "outputs": [
        {
          "output_type": "execute_result",
          "data": {
            "text/html": [
              "<div>\n",
              "<style scoped>\n",
              "    .dataframe tbody tr th:only-of-type {\n",
              "        vertical-align: middle;\n",
              "    }\n",
              "\n",
              "    .dataframe tbody tr th {\n",
              "        vertical-align: top;\n",
              "    }\n",
              "\n",
              "    .dataframe thead th {\n",
              "        text-align: right;\n",
              "    }\n",
              "</style>\n",
              "<table border=\"1\" class=\"dataframe\">\n",
              "  <thead>\n",
              "    <tr style=\"text-align: right;\">\n",
              "      <th></th>\n",
              "      <th>Name</th>\n",
              "      <th>R</th>\n",
              "      <th>G</th>\n",
              "      <th>B</th>\n",
              "    </tr>\n",
              "  </thead>\n",
              "  <tbody>\n",
              "    <tr>\n",
              "      <th>0</th>\n",
              "      <td>air force blue</td>\n",
              "      <td>93</td>\n",
              "      <td>138</td>\n",
              "      <td>168</td>\n",
              "    </tr>\n",
              "    <tr>\n",
              "      <th>1</th>\n",
              "      <td>alice blue</td>\n",
              "      <td>240</td>\n",
              "      <td>248</td>\n",
              "      <td>255</td>\n",
              "    </tr>\n",
              "    <tr>\n",
              "      <th>2</th>\n",
              "      <td>alizarin crimson</td>\n",
              "      <td>227</td>\n",
              "      <td>38</td>\n",
              "      <td>54</td>\n",
              "    </tr>\n",
              "    <tr>\n",
              "      <th>3</th>\n",
              "      <td>almond</td>\n",
              "      <td>239</td>\n",
              "      <td>222</td>\n",
              "      <td>205</td>\n",
              "    </tr>\n",
              "    <tr>\n",
              "      <th>4</th>\n",
              "      <td>amaranth</td>\n",
              "      <td>229</td>\n",
              "      <td>43</td>\n",
              "      <td>80</td>\n",
              "    </tr>\n",
              "  </tbody>\n",
              "</table>\n",
              "</div>"
            ],
            "text/plain": [
              "               Name    R    G    B\n",
              "0    air force blue   93  138  168\n",
              "1        alice blue  240  248  255\n",
              "2  alizarin crimson  227   38   54\n",
              "3            almond  239  222  205\n",
              "4          amaranth  229   43   80"
            ]
          },
          "metadata": {
            "tags": []
          },
          "execution_count": 725
        }
      ]
    },
    {
      "cell_type": "code",
      "metadata": {
        "id": "A6frzc_WS24J"
      },
      "source": [
        "names=data['Name']\n",
        "maxlen=4\n",
        "t=Tokenizer()\n",
        "t.fit_on_texts(names)"
      ],
      "execution_count": 726,
      "outputs": []
    },
    {
      "cell_type": "code",
      "metadata": {
        "colab": {
          "base_uri": "https://localhost:8080/"
        },
        "id": "Atl6yXbiTXaI",
        "outputId": "d50bc20d-3034-481e-a40c-2172bba3c723"
      },
      "source": [
        "word_to_index=t.word_index\n",
        "print(len(word_to_index))\n",
        "#print(len(word_vectors[]))"
      ],
      "execution_count": 727,
      "outputs": [
        {
          "output_type": "stream",
          "text": [
            "502\n"
          ],
          "name": "stdout"
        }
      ]
    },
    {
      "cell_type": "code",
      "metadata": {
        "id": "nRbsUrZaUCZA"
      },
      "source": [
        ""
      ],
      "execution_count": 727,
      "outputs": []
    },
    {
      "cell_type": "code",
      "metadata": {
        "id": "se7Z21RnTSmr"
      },
      "source": [
        "names=names.to_list()"
      ],
      "execution_count": 728,
      "outputs": []
    },
    {
      "cell_type": "code",
      "metadata": {
        "colab": {
          "base_uri": "https://localhost:8080/"
        },
        "id": "Zffyg8p2Tfc_",
        "outputId": "da613c82-236b-44cc-f9bc-66d752dfc349"
      },
      "source": [
        "np.shape(names)"
      ],
      "execution_count": 729,
      "outputs": [
        {
          "output_type": "execute_result",
          "data": {
            "text/plain": [
              "(755,)"
            ]
          },
          "metadata": {
            "tags": []
          },
          "execution_count": 729
        }
      ]
    },
    {
      "cell_type": "code",
      "metadata": {
        "id": "0ArDUQt0Tmc_"
      },
      "source": [
        "from tensorflow.python.keras import preprocessing\n",
        "\n",
        "tokenized=[nltk.word_tokenize(name) for name in names]\n"
      ],
      "execution_count": 730,
      "outputs": []
    },
    {
      "cell_type": "code",
      "metadata": {
        "id": "XkzfBUp3b8mY"
      },
      "source": [
        "#tokenized"
      ],
      "execution_count": 731,
      "outputs": []
    },
    {
      "cell_type": "code",
      "metadata": {
        "colab": {
          "base_uri": "https://localhost:8080/"
        },
        "id": "ovXfyFC7cSJR",
        "outputId": "51a73f46-23e6-4596-e550-69bc820a12bb"
      },
      "source": [
        "tokenized[0]"
      ],
      "execution_count": 732,
      "outputs": [
        {
          "output_type": "execute_result",
          "data": {
            "text/plain": [
              "['air', 'force', 'blue']"
            ]
          },
          "metadata": {
            "tags": []
          },
          "execution_count": 732
        }
      ]
    },
    {
      "cell_type": "code",
      "metadata": {
        "colab": {
          "base_uri": "https://localhost:8080/"
        },
        "id": "_kyrvtCudGrg",
        "outputId": "4200f64b-c265-4c5d-aeed-a5a08d1c890e"
      },
      "source": [
        "print(vocab_dict['anti'])"
      ],
      "execution_count": 733,
      "outputs": [
        {
          "output_type": "stream",
          "text": [
            "811\n"
          ],
          "name": "stdout"
        }
      ]
    },
    {
      "cell_type": "code",
      "metadata": {
        "id": "PZ972FZrUU-p"
      },
      "source": [
        "# tokenized= [vocal_dict[word] for word in tokenized]\n",
        "# tokenized=np.array(tokenized)\n",
        "# tokenized\n",
        "tokenized_index=[]\n",
        "sub=[]\n",
        "for m in tokenized:\n",
        "  sub=[]\n",
        "  for word in m:\n",
        "    sub.append(vocab_dict[word])\n",
        "  tokenized_index.append(sub)"
      ],
      "execution_count": 734,
      "outputs": []
    },
    {
      "cell_type": "code",
      "metadata": {
        "colab": {
          "base_uri": "https://localhost:8080/"
        },
        "id": "lU6Ln8S8eiMB",
        "outputId": "e23d88aa-cac6-4081-841f-5112bd74fb20"
      },
      "source": [
        "np.shape(tokenized_index)"
      ],
      "execution_count": 735,
      "outputs": [
        {
          "output_type": "stream",
          "text": [
            "/usr/local/lib/python3.7/dist-packages/numpy/core/_asarray.py:83: VisibleDeprecationWarning: Creating an ndarray from ragged nested sequences (which is a list-or-tuple of lists-or-tuples-or ndarrays with different lengths or shapes) is deprecated. If you meant to do this, you must specify 'dtype=object' when creating the ndarray\n",
            "  return array(a, dtype, copy=False, order=order)\n"
          ],
          "name": "stderr"
        },
        {
          "output_type": "execute_result",
          "data": {
            "text/plain": [
              "(755,)"
            ]
          },
          "metadata": {
            "tags": []
          },
          "execution_count": 735
        }
      ]
    },
    {
      "cell_type": "code",
      "metadata": {
        "colab": {
          "base_uri": "https://localhost:8080/"
        },
        "id": "7GNuMuSoU0tV",
        "outputId": "a4fefbbd-b5f1-4f03-c4d2-12b526ff9557"
      },
      "source": [
        "padded_names=preprocessing.sequence.pad_sequences(tokenized_index,maxlen=maxlen)\n",
        "print(padded_names)\n",
        "print(padded_names.shape)"
      ],
      "execution_count": 736,
      "outputs": [
        {
          "output_type": "stream",
          "text": [
            "[[     0    325    352   1185]\n",
            " [     0      0   7099   1185]\n",
            " [     0      0 281874  15762]\n",
            " ...\n",
            " [     0      0   2843    989]\n",
            " [     0      0   1479   1185]\n",
            " [     0      0      0      0]]\n",
            "(755, 4)\n"
          ],
          "name": "stdout"
        }
      ]
    },
    {
      "cell_type": "code",
      "metadata": {
        "colab": {
          "base_uri": "https://localhost:8080/"
        },
        "id": "3wXZmMqdWWW1",
        "outputId": "a61d7425-fae1-4b34-e467-8530236deda3"
      },
      "source": [
        "word_vectors[\"cucumber\"].shape[0] "
      ],
      "execution_count": 737,
      "outputs": [
        {
          "output_type": "execute_result",
          "data": {
            "text/plain": [
              "100"
            ]
          },
          "metadata": {
            "tags": []
          },
          "execution_count": 737
        }
      ]
    },
    {
      "cell_type": "code",
      "metadata": {
        "id": "bS3ujbdd2t3c"
      },
      "source": [
        "# one_hot_names=to_categorical(padded_names)\n",
        "# one_hot_names.shape"
      ],
      "execution_count": 738,
      "outputs": []
    },
    {
      "cell_type": "code",
      "metadata": {
        "id": "rSPv7D022tY4"
      },
      "source": [
        "# num_classes=one_hot_names.shape[-1]\n",
        "# num_classes"
      ],
      "execution_count": 739,
      "outputs": []
    },
    {
      "cell_type": "code",
      "metadata": {
        "id": "dfpopburVBRf"
      },
      "source": [
        "def pretrained_embedding_layer(word_to_vec_map, word_to_index):\n",
        "    \"\"\"\n",
        "    Creates a Keras Embedding() layer and loads in pre-trained GloVe 50-dimensional vectors.\n",
        "    \n",
        "    Arguments:\n",
        "    word_to_vec_map -- dictionary mapping words to their GloVe vector representation.\n",
        "    word_to_index -- dictionary mapping from words to their indices in the vocabulary (400,001 words)\n",
        "\n",
        "    Returns:\n",
        "    embedding_layer -- pretrained layer Keras instance\n",
        "    \"\"\"\n",
        "    \n",
        "    vocab_len = len(word_to_index) + 1                  # adding 1 to fit Keras embedding (requirement)\n",
        "    emb_dim = word_to_vec_map[\"cucumber\"].shape[0]      # define dimensionality of your GloVe word vectors (= 50)\n",
        "    \n",
        "    ### START CODE HERE ###\n",
        "    # Step 1\n",
        "    # Initialize the embedding matrix as a numpy array of zeros.\n",
        "    # See instructions above to choose the correct shape.\n",
        "    emb_matrix = np.zeros([vocab_len,word_to_vec_map[\"cucumber\"].shape[0]])\n",
        "    \n",
        "    # Step 2\n",
        "    # Set each row \"idx\" of the embedding matrix to be \n",
        "    # the word vector representation of the idx'th word of the vocabulary\n",
        "    for word, idx in word_to_index.items():\n",
        "        \n",
        "        emb_matrix[idx, :] = word_to_vec_map[word]\n",
        "    print(\"embedding matrix\",emb_matrix.shape)\n",
        "    # print(\"embedding matrix\",emb_matrix)\n",
        "    # Step 3\n",
        "    # Define Keras embedding layer with the correct input and output sizes\n",
        "    # Make it non-trainable.\n",
        "    embedding_layer = Embedding(vocab_len,emb_dim,trainable=False)\n",
        "    ### END CODE HERE ###\n",
        "\n",
        "    # Step 4 (already done for you; please do not modify)\n",
        "    # Build the embedding layer, it is required before setting the weights of the embedding layer. \n",
        "    embedding_layer.build((None,)) # Do not modify the \"None\".  This line of code is complete as-is.\n",
        "    \n",
        "    # Set the weights of the embedding layer to the embedding matrix. Your layer is now pretrained.\n",
        "    embedding_layer.set_weights([emb_matrix])\n",
        "    \n",
        "    return embedding_layer"
      ],
      "execution_count": 740,
      "outputs": []
    },
    {
      "cell_type": "code",
      "metadata": {
        "id": "ICzJbx3CWOMB"
      },
      "source": [
        "# GRADED FUNCTION: Emojify_V2\n",
        "\n",
        "def Emojify_V2(input_shape, word_to_vec_map, word_to_index):\n",
        "    \"\"\"\n",
        "    Function creating the Emojify-v2 model's graph.\n",
        "    \n",
        "    Arguments:\n",
        "    input_shape -- shape of the input, usually (max_len,)\n",
        "    word_to_vec_map -- dictionary mapping every word in a vocabulary into its 50-dimensional vector representation\n",
        "    word_to_index -- dictionary mapping from words to their indices in the vocabulary (400,001 words)\n",
        "\n",
        "    Returns:\n",
        "    model -- a model instance in Keras\n",
        "    \"\"\"\n",
        "    \n",
        "    ### START CODE HERE ###\n",
        "    # Define sentence_indices as the input of the graph.\n",
        "    # It should be of shape input_shape and dtype 'int32' (as it contains indices, which are integers).\n",
        "    sentence_indices = Input(dtype='int32',shape=input_shape)\n",
        "    \n",
        "    # Create the embedding layer pretrained with GloVe Vectors (≈1 line)\n",
        "    embedding_layer = pretrained_embedding_layer(word_to_vec_map,word_to_index)\n",
        "    \n",
        "    # Propagate sentence_indices through your embedding layer\n",
        "    # (See additional hints in the instructions).\n",
        "    embeddings = embedding_layer(sentence_indices)   \n",
        "    \n",
        "    # Propagate the embeddings through an LSTM layer with 128-dimensional hidden state\n",
        "    # The returned output should be a batch of sequences.\n",
        "    # X = LSTM(units=128,return_sequences=True)(embeddings)\n",
        "    # Add dropout with a probability of 0.5\n",
        "    #X = Dropout(0.9)(embeddings)\n",
        "    # Propagate X trough another LSTM layer with 128-dimensional hidden state\n",
        "    # The returned output should be a single hidden state, not a batch of sequences.\n",
        "    X = GRU(units=128,return_sequences=True)(embeddings)\n",
        "    #X=BatchNormalization()(X)\n",
        "    #X = Dropout(0.8)(X)\n",
        "\n",
        "    #X=BatchNormalization()(X)\n",
        "    X = GRU(units=128,return_sequences=False)(X)\n",
        "    # Add dropout with a probability of 0.5\n",
        "    #X=BatchNormalization()(X)\n",
        "    X = Dropout(0.6)(X)\n",
        "    # Propagate X through a Dense layer with 5 units\n",
        "    X = Dense(80,activation='relu')(X)\n",
        "    X = Dense(3)(X)\n",
        "    # Add a softmax activation\n",
        "    X = Activation('sigmoid')(X)\n",
        "    \n",
        "    # Create Model instance which converts sentence_indices into X.\n",
        "    model = Model(inputs=sentence_indices,outputs=X)\n",
        "    \n",
        "    ### END CODE HERE ###\n",
        "    \n",
        "    return model"
      ],
      "execution_count": 741,
      "outputs": []
    },
    {
      "cell_type": "code",
      "metadata": {
        "id": "OJKdLIG2Ws2d",
        "colab": {
          "base_uri": "https://localhost:8080/"
        },
        "outputId": "9d21f7e5-bf2e-4593-af0f-1b1a312de0f3"
      },
      "source": [
        "model = Emojify_V2((maxlen), word_vectors, vocab_dict)"
      ],
      "execution_count": 742,
      "outputs": [
        {
          "output_type": "stream",
          "text": [
            "embedding matrix (400001, 100)\n"
          ],
          "name": "stdout"
        }
      ]
    },
    {
      "cell_type": "code",
      "metadata": {
        "colab": {
          "base_uri": "https://localhost:8080/"
        },
        "id": "494oUWOT09eR",
        "outputId": "8abfd3ca-ea01-4e24-fc9b-7ab6e265f319"
      },
      "source": [
        "maxlen"
      ],
      "execution_count": 743,
      "outputs": [
        {
          "output_type": "execute_result",
          "data": {
            "text/plain": [
              "4"
            ]
          },
          "metadata": {
            "tags": []
          },
          "execution_count": 743
        }
      ]
    },
    {
      "cell_type": "code",
      "metadata": {
        "id": "d9FvkDlXX3M8"
      },
      "source": [
        "dataset=list(t.word_index)"
      ],
      "execution_count": 744,
      "outputs": []
    },
    {
      "cell_type": "code",
      "metadata": {
        "id": "GjtfjCVVpwkQ"
      },
      "source": [
        "def check(dataset,vocal_list):\n",
        "  c=0\n",
        "  for word in dataset:\n",
        "    if(word not in vocab_list):\n",
        "      c+=1\n",
        "      print(word)\n",
        "  print('\\n',c,\"words\")"
      ],
      "execution_count": 745,
      "outputs": []
    },
    {
      "cell_type": "code",
      "metadata": {
        "colab": {
          "base_uri": "https://localhost:8080/"
        },
        "id": "czpgBpPYrT4M",
        "outputId": "041faa8c-bfe1-428f-d926-76b03cb0f274"
      },
      "source": [
        "check(dataset,vocab_list)"
      ],
      "execution_count": 746,
      "outputs": [
        {
          "output_type": "stream",
          "text": [
            "\n",
            " 0 words\n"
          ],
          "name": "stdout"
        }
      ]
    },
    {
      "cell_type": "code",
      "metadata": {
        "colab": {
          "base_uri": "https://localhost:8080/"
        },
        "id": "nyrbSh2srW-b",
        "outputId": "52c9d870-3a48-404d-ffea-088f13ff125c"
      },
      "source": [
        "model.summary()"
      ],
      "execution_count": 747,
      "outputs": [
        {
          "output_type": "stream",
          "text": [
            "Model: \"model_21\"\n",
            "_________________________________________________________________\n",
            "Layer (type)                 Output Shape              Param #   \n",
            "=================================================================\n",
            "input_23 (InputLayer)        [(None, 4)]               0         \n",
            "_________________________________________________________________\n",
            "embedding_22 (Embedding)     (None, 4, 100)            40000100  \n",
            "_________________________________________________________________\n",
            "gru_26 (GRU)                 (None, 4, 128)            88320     \n",
            "_________________________________________________________________\n",
            "gru_27 (GRU)                 (None, 128)               99072     \n",
            "_________________________________________________________________\n",
            "dropout_25 (Dropout)         (None, 128)               0         \n",
            "_________________________________________________________________\n",
            "dense_42 (Dense)             (None, 80)                10320     \n",
            "_________________________________________________________________\n",
            "dense_43 (Dense)             (None, 3)                 243       \n",
            "_________________________________________________________________\n",
            "activation_21 (Activation)   (None, 3)                 0         \n",
            "=================================================================\n",
            "Total params: 40,198,055\n",
            "Trainable params: 197,955\n",
            "Non-trainable params: 40,000,100\n",
            "_________________________________________________________________\n"
          ],
          "name": "stdout"
        }
      ]
    },
    {
      "cell_type": "code",
      "metadata": {
        "id": "jsAMQy0QzWrp"
      },
      "source": [
        "from tensorflow.keras.optimizers import Adam,SGD\n",
        "model.compile(optimizer=Adam(),loss='mse',metrics=['acc'])"
      ],
      "execution_count": 748,
      "outputs": []
    },
    {
      "cell_type": "code",
      "metadata": {
        "id": "Xzgtaqr-0dBS"
      },
      "source": [
        "def norm(colors):\n",
        "  colors=colors/255\n",
        "  return colors\n",
        "\n",
        "r=np.array(data['R'])\n",
        "r=r.reshape([r.shape[0],1])\n",
        "g=np.array(data['G'])\n",
        "g=g.reshape([g.shape[0],1])\n",
        "b=np.array(data['B'])\n",
        "b=b.reshape([b.shape[0],1])\n",
        "rgb_values=np.concatenate((r,g,b),axis=1)\n",
        "rgb_values.shape\n",
        "normalized_values=norm(rgb_values)"
      ],
      "execution_count": 749,
      "outputs": []
    },
    {
      "cell_type": "markdown",
      "metadata": {
        "id": "VLgp64tIluOT"
      },
      "source": [
        "The test set is validation set here."
      ]
    },
    {
      "cell_type": "code",
      "metadata": {
        "colab": {
          "base_uri": "https://localhost:8080/",
          "height": 195
        },
        "id": "wZeLSHBX0ho_",
        "outputId": "2a413903-0019-4234-ea82-c9922f04148a"
      },
      "source": [
        "data_test=pd.read_csv('wikipedia_x11_colors.csv')\n",
        "data_test['Name']=data_test['Name'].str.lower()\n",
        "data_test.head()"
      ],
      "execution_count": 750,
      "outputs": [
        {
          "output_type": "execute_result",
          "data": {
            "text/html": [
              "<div>\n",
              "<style scoped>\n",
              "    .dataframe tbody tr th:only-of-type {\n",
              "        vertical-align: middle;\n",
              "    }\n",
              "\n",
              "    .dataframe tbody tr th {\n",
              "        vertical-align: top;\n",
              "    }\n",
              "\n",
              "    .dataframe thead th {\n",
              "        text-align: right;\n",
              "    }\n",
              "</style>\n",
              "<table border=\"1\" class=\"dataframe\">\n",
              "  <thead>\n",
              "    <tr style=\"text-align: right;\">\n",
              "      <th></th>\n",
              "      <th>Name</th>\n",
              "      <th>R</th>\n",
              "      <th>G</th>\n",
              "      <th>B</th>\n",
              "    </tr>\n",
              "  </thead>\n",
              "  <tbody>\n",
              "    <tr>\n",
              "      <th>0</th>\n",
              "      <td>alice blue</td>\n",
              "      <td>240</td>\n",
              "      <td>248</td>\n",
              "      <td>255</td>\n",
              "    </tr>\n",
              "    <tr>\n",
              "      <th>1</th>\n",
              "      <td>antique white</td>\n",
              "      <td>250</td>\n",
              "      <td>235</td>\n",
              "      <td>215</td>\n",
              "    </tr>\n",
              "    <tr>\n",
              "      <th>2</th>\n",
              "      <td>aqua</td>\n",
              "      <td>0</td>\n",
              "      <td>255</td>\n",
              "      <td>255</td>\n",
              "    </tr>\n",
              "    <tr>\n",
              "      <th>3</th>\n",
              "      <td>aquamarine</td>\n",
              "      <td>127</td>\n",
              "      <td>255</td>\n",
              "      <td>212</td>\n",
              "    </tr>\n",
              "    <tr>\n",
              "      <th>4</th>\n",
              "      <td>azure</td>\n",
              "      <td>0</td>\n",
              "      <td>127</td>\n",
              "      <td>255</td>\n",
              "    </tr>\n",
              "  </tbody>\n",
              "</table>\n",
              "</div>"
            ],
            "text/plain": [
              "            Name    R    G    B\n",
              "0     alice blue  240  248  255\n",
              "1  antique white  250  235  215\n",
              "2           aqua    0  255  255\n",
              "3     aquamarine  127  255  212\n",
              "4          azure    0  127  255"
            ]
          },
          "metadata": {
            "tags": []
          },
          "execution_count": 750
        }
      ]
    },
    {
      "cell_type": "code",
      "metadata": {
        "colab": {
          "base_uri": "https://localhost:8080/"
        },
        "id": "8w4odvzvlEv7",
        "outputId": "c5a20c7a-f619-483c-c2ae-7f7eec45a12e"
      },
      "source": [
        "test_names=data_test['Name']\n",
        "test_names=test_names.to_list()\n",
        "testtokenized=[nltk.word_tokenize(name) for name in test_names]\n",
        "\n",
        "test_tokenized_index=[]\n",
        "sub=[]\n",
        "for m in testtokenized:\n",
        "  sub=[]\n",
        "  for word in m:\n",
        "    sub.append(vocab_dict[word])\n",
        "  test_tokenized_index.append(sub)\n",
        "\n",
        "test_padded_names=preprocessing.sequence.pad_sequences(test_tokenized_index,maxlen=maxlen)\n",
        "print(test_padded_names[:3])\n",
        "print(test_padded_names.shape)"
      ],
      "execution_count": 751,
      "outputs": [
        {
          "output_type": "stream",
          "text": [
            "[[    0     0  7099  1185]\n",
            " [    0     0 13299   298]\n",
            " [    0     0     0 28528]]\n",
            "(144, 4)\n"
          ],
          "name": "stdout"
        }
      ]
    },
    {
      "cell_type": "code",
      "metadata": {
        "id": "Dx5tzKf8lMNu"
      },
      "source": [
        "# y_hat=model.predict(test_padded_names)\n",
        "# y_hat\n",
        "# y_hat=scale(y_hat)\n",
        "r=np.array(data_test['R'])\n",
        "r=r.reshape([r.shape[0],1])\n",
        "g=np.array(data_test['G'])\n",
        "g=g.reshape([g.shape[0],1])\n",
        "b=np.array(data_test['B'])\n",
        "b=b.reshape([b.shape[0],1])\n",
        "test_rgb_values=np.concatenate((r,g,b),axis=1)\n",
        "test_norm_values=norm(test_rgb_values)"
      ],
      "execution_count": 752,
      "outputs": []
    },
    {
      "cell_type": "code",
      "metadata": {
        "colab": {
          "base_uri": "https://localhost:8080/"
        },
        "id": "KaP1Y53qzo6n",
        "outputId": "7b569c45-f5ad-4829-ac6d-de9c564ec1da"
      },
      "source": [
        "history=model.fit(x=padded_names,y=normalized_values,validation_data=(test_padded_names,test_norm_values),batch_size=64,epochs=200)"
      ],
      "execution_count": 770,
      "outputs": [
        {
          "output_type": "stream",
          "text": [
            "Epoch 1/200\n",
            "12/12 [==============================] - 0s 31ms/step - loss: 0.0033 - acc: 0.8980 - val_loss: 0.0107 - val_acc: 0.8264\n",
            "Epoch 2/200\n",
            "12/12 [==============================] - 0s 25ms/step - loss: 0.0036 - acc: 0.8993 - val_loss: 0.0113 - val_acc: 0.8333\n",
            "Epoch 3/200\n",
            "12/12 [==============================] - 0s 25ms/step - loss: 0.0034 - acc: 0.9152 - val_loss: 0.0109 - val_acc: 0.8472\n",
            "Epoch 4/200\n",
            "12/12 [==============================] - 0s 25ms/step - loss: 0.0035 - acc: 0.8901 - val_loss: 0.0114 - val_acc: 0.8472\n",
            "Epoch 5/200\n",
            "12/12 [==============================] - 0s 25ms/step - loss: 0.0035 - acc: 0.9046 - val_loss: 0.0118 - val_acc: 0.7986\n",
            "Epoch 6/200\n",
            "12/12 [==============================] - 0s 26ms/step - loss: 0.0031 - acc: 0.9046 - val_loss: 0.0110 - val_acc: 0.8472\n",
            "Epoch 7/200\n",
            "12/12 [==============================] - 0s 25ms/step - loss: 0.0034 - acc: 0.9007 - val_loss: 0.0116 - val_acc: 0.8056\n",
            "Epoch 8/200\n",
            "12/12 [==============================] - 0s 24ms/step - loss: 0.0031 - acc: 0.9285 - val_loss: 0.0114 - val_acc: 0.8264\n",
            "Epoch 9/200\n",
            "12/12 [==============================] - 0s 26ms/step - loss: 0.0034 - acc: 0.8980 - val_loss: 0.0111 - val_acc: 0.8264\n",
            "Epoch 10/200\n",
            "12/12 [==============================] - 0s 25ms/step - loss: 0.0032 - acc: 0.9046 - val_loss: 0.0113 - val_acc: 0.8056\n",
            "Epoch 11/200\n",
            "12/12 [==============================] - 0s 25ms/step - loss: 0.0031 - acc: 0.8914 - val_loss: 0.0113 - val_acc: 0.8403\n",
            "Epoch 12/200\n",
            "12/12 [==============================] - 0s 25ms/step - loss: 0.0031 - acc: 0.9113 - val_loss: 0.0117 - val_acc: 0.8125\n",
            "Epoch 13/200\n",
            "12/12 [==============================] - 0s 26ms/step - loss: 0.0031 - acc: 0.8967 - val_loss: 0.0120 - val_acc: 0.8333\n",
            "Epoch 14/200\n",
            "12/12 [==============================] - 0s 26ms/step - loss: 0.0032 - acc: 0.9020 - val_loss: 0.0109 - val_acc: 0.8611\n",
            "Epoch 15/200\n",
            "12/12 [==============================] - 0s 24ms/step - loss: 0.0031 - acc: 0.8954 - val_loss: 0.0113 - val_acc: 0.8472\n",
            "Epoch 16/200\n",
            "12/12 [==============================] - 0s 27ms/step - loss: 0.0033 - acc: 0.9086 - val_loss: 0.0110 - val_acc: 0.8819\n",
            "Epoch 17/200\n",
            "12/12 [==============================] - 0s 25ms/step - loss: 0.0032 - acc: 0.9046 - val_loss: 0.0109 - val_acc: 0.8611\n",
            "Epoch 18/200\n",
            "12/12 [==============================] - 0s 24ms/step - loss: 0.0032 - acc: 0.9073 - val_loss: 0.0112 - val_acc: 0.8194\n",
            "Epoch 19/200\n",
            "12/12 [==============================] - 0s 25ms/step - loss: 0.0032 - acc: 0.8980 - val_loss: 0.0111 - val_acc: 0.8472\n",
            "Epoch 20/200\n",
            "12/12 [==============================] - 0s 24ms/step - loss: 0.0032 - acc: 0.8914 - val_loss: 0.0112 - val_acc: 0.8403\n",
            "Epoch 21/200\n",
            "12/12 [==============================] - 0s 24ms/step - loss: 0.0030 - acc: 0.9139 - val_loss: 0.0111 - val_acc: 0.8264\n",
            "Epoch 22/200\n",
            "12/12 [==============================] - 0s 25ms/step - loss: 0.0030 - acc: 0.8993 - val_loss: 0.0112 - val_acc: 0.8681\n",
            "Epoch 23/200\n",
            "12/12 [==============================] - 0s 26ms/step - loss: 0.0027 - acc: 0.8980 - val_loss: 0.0108 - val_acc: 0.8264\n",
            "Epoch 24/200\n",
            "12/12 [==============================] - 0s 25ms/step - loss: 0.0028 - acc: 0.9152 - val_loss: 0.0109 - val_acc: 0.8611\n",
            "Epoch 25/200\n",
            "12/12 [==============================] - 0s 25ms/step - loss: 0.0030 - acc: 0.9033 - val_loss: 0.0107 - val_acc: 0.8472\n",
            "Epoch 26/200\n",
            "12/12 [==============================] - 0s 26ms/step - loss: 0.0030 - acc: 0.8954 - val_loss: 0.0108 - val_acc: 0.8889\n",
            "Epoch 27/200\n",
            "12/12 [==============================] - 0s 24ms/step - loss: 0.0029 - acc: 0.9099 - val_loss: 0.0108 - val_acc: 0.8056\n",
            "Epoch 28/200\n",
            "12/12 [==============================] - 0s 24ms/step - loss: 0.0032 - acc: 0.8980 - val_loss: 0.0108 - val_acc: 0.8125\n",
            "Epoch 29/200\n",
            "12/12 [==============================] - 0s 25ms/step - loss: 0.0031 - acc: 0.8954 - val_loss: 0.0107 - val_acc: 0.8403\n",
            "Epoch 30/200\n",
            "12/12 [==============================] - 0s 25ms/step - loss: 0.0030 - acc: 0.8927 - val_loss: 0.0116 - val_acc: 0.8472\n",
            "Epoch 31/200\n",
            "12/12 [==============================] - 0s 26ms/step - loss: 0.0030 - acc: 0.9086 - val_loss: 0.0107 - val_acc: 0.8750\n",
            "Epoch 32/200\n",
            "12/12 [==============================] - 0s 24ms/step - loss: 0.0031 - acc: 0.9007 - val_loss: 0.0111 - val_acc: 0.8681\n",
            "Epoch 33/200\n",
            "12/12 [==============================] - 0s 25ms/step - loss: 0.0032 - acc: 0.9166 - val_loss: 0.0113 - val_acc: 0.8403\n",
            "Epoch 34/200\n",
            "12/12 [==============================] - 0s 24ms/step - loss: 0.0032 - acc: 0.8967 - val_loss: 0.0108 - val_acc: 0.8333\n",
            "Epoch 35/200\n",
            "12/12 [==============================] - 0s 24ms/step - loss: 0.0031 - acc: 0.8954 - val_loss: 0.0107 - val_acc: 0.8194\n",
            "Epoch 36/200\n",
            "12/12 [==============================] - 0s 25ms/step - loss: 0.0029 - acc: 0.9192 - val_loss: 0.0107 - val_acc: 0.8264\n",
            "Epoch 37/200\n",
            "12/12 [==============================] - 0s 26ms/step - loss: 0.0029 - acc: 0.8980 - val_loss: 0.0106 - val_acc: 0.8611\n",
            "Epoch 38/200\n",
            "12/12 [==============================] - 0s 24ms/step - loss: 0.0030 - acc: 0.9007 - val_loss: 0.0112 - val_acc: 0.7917\n",
            "Epoch 39/200\n",
            "12/12 [==============================] - 0s 24ms/step - loss: 0.0031 - acc: 0.9113 - val_loss: 0.0116 - val_acc: 0.8264\n",
            "Epoch 40/200\n",
            "12/12 [==============================] - 0s 25ms/step - loss: 0.0032 - acc: 0.8927 - val_loss: 0.0104 - val_acc: 0.8333\n",
            "Epoch 41/200\n",
            "12/12 [==============================] - 0s 23ms/step - loss: 0.0029 - acc: 0.9192 - val_loss: 0.0108 - val_acc: 0.8333\n",
            "Epoch 42/200\n",
            "12/12 [==============================] - 0s 24ms/step - loss: 0.0029 - acc: 0.9060 - val_loss: 0.0112 - val_acc: 0.8194\n",
            "Epoch 43/200\n",
            "12/12 [==============================] - 0s 24ms/step - loss: 0.0027 - acc: 0.8993 - val_loss: 0.0107 - val_acc: 0.8611\n",
            "Epoch 44/200\n",
            "12/12 [==============================] - 0s 24ms/step - loss: 0.0029 - acc: 0.8967 - val_loss: 0.0107 - val_acc: 0.8472\n",
            "Epoch 45/200\n",
            "12/12 [==============================] - 0s 24ms/step - loss: 0.0027 - acc: 0.9033 - val_loss: 0.0108 - val_acc: 0.8611\n",
            "Epoch 46/200\n",
            "12/12 [==============================] - 0s 24ms/step - loss: 0.0029 - acc: 0.8901 - val_loss: 0.0115 - val_acc: 0.8542\n",
            "Epoch 47/200\n",
            "12/12 [==============================] - 0s 25ms/step - loss: 0.0029 - acc: 0.8993 - val_loss: 0.0104 - val_acc: 0.8403\n",
            "Epoch 48/200\n",
            "12/12 [==============================] - 0s 24ms/step - loss: 0.0029 - acc: 0.8954 - val_loss: 0.0108 - val_acc: 0.8264\n",
            "Epoch 49/200\n",
            "12/12 [==============================] - 0s 24ms/step - loss: 0.0028 - acc: 0.9126 - val_loss: 0.0111 - val_acc: 0.8611\n",
            "Epoch 50/200\n",
            "12/12 [==============================] - 0s 25ms/step - loss: 0.0026 - acc: 0.9033 - val_loss: 0.0111 - val_acc: 0.8264\n",
            "Epoch 51/200\n",
            "12/12 [==============================] - 0s 24ms/step - loss: 0.0031 - acc: 0.9113 - val_loss: 0.0106 - val_acc: 0.8333\n",
            "Epoch 52/200\n",
            "12/12 [==============================] - 0s 24ms/step - loss: 0.0029 - acc: 0.9073 - val_loss: 0.0106 - val_acc: 0.8194\n",
            "Epoch 53/200\n",
            "12/12 [==============================] - 0s 25ms/step - loss: 0.0029 - acc: 0.9099 - val_loss: 0.0110 - val_acc: 0.8125\n",
            "Epoch 54/200\n",
            "12/12 [==============================] - 0s 25ms/step - loss: 0.0028 - acc: 0.9033 - val_loss: 0.0110 - val_acc: 0.8333\n",
            "Epoch 55/200\n",
            "12/12 [==============================] - 0s 25ms/step - loss: 0.0029 - acc: 0.9046 - val_loss: 0.0107 - val_acc: 0.8333\n",
            "Epoch 56/200\n",
            "12/12 [==============================] - 0s 25ms/step - loss: 0.0027 - acc: 0.9046 - val_loss: 0.0108 - val_acc: 0.8264\n",
            "Epoch 57/200\n",
            "12/12 [==============================] - 0s 27ms/step - loss: 0.0027 - acc: 0.8993 - val_loss: 0.0104 - val_acc: 0.8056\n",
            "Epoch 58/200\n",
            "12/12 [==============================] - 0s 25ms/step - loss: 0.0027 - acc: 0.8993 - val_loss: 0.0107 - val_acc: 0.8264\n",
            "Epoch 59/200\n",
            "12/12 [==============================] - 0s 25ms/step - loss: 0.0027 - acc: 0.9192 - val_loss: 0.0107 - val_acc: 0.8194\n",
            "Epoch 60/200\n",
            "12/12 [==============================] - 0s 26ms/step - loss: 0.0027 - acc: 0.8834 - val_loss: 0.0107 - val_acc: 0.8194\n",
            "Epoch 61/200\n",
            "12/12 [==============================] - 0s 24ms/step - loss: 0.0029 - acc: 0.9166 - val_loss: 0.0114 - val_acc: 0.8403\n",
            "Epoch 62/200\n",
            "12/12 [==============================] - 0s 25ms/step - loss: 0.0028 - acc: 0.9060 - val_loss: 0.0115 - val_acc: 0.8542\n",
            "Epoch 63/200\n",
            "12/12 [==============================] - 0s 25ms/step - loss: 0.0031 - acc: 0.8980 - val_loss: 0.0118 - val_acc: 0.8472\n",
            "Epoch 64/200\n",
            "12/12 [==============================] - 0s 26ms/step - loss: 0.0031 - acc: 0.9205 - val_loss: 0.0107 - val_acc: 0.8681\n",
            "Epoch 65/200\n",
            "12/12 [==============================] - 0s 23ms/step - loss: 0.0031 - acc: 0.8993 - val_loss: 0.0112 - val_acc: 0.8611\n",
            "Epoch 66/200\n",
            "12/12 [==============================] - 0s 25ms/step - loss: 0.0027 - acc: 0.9152 - val_loss: 0.0108 - val_acc: 0.8611\n",
            "Epoch 67/200\n",
            "12/12 [==============================] - 0s 26ms/step - loss: 0.0028 - acc: 0.9007 - val_loss: 0.0103 - val_acc: 0.8472\n",
            "Epoch 68/200\n",
            "12/12 [==============================] - 0s 25ms/step - loss: 0.0025 - acc: 0.9073 - val_loss: 0.0107 - val_acc: 0.8403\n",
            "Epoch 69/200\n",
            "12/12 [==============================] - 0s 24ms/step - loss: 0.0026 - acc: 0.9245 - val_loss: 0.0111 - val_acc: 0.8194\n",
            "Epoch 70/200\n",
            "12/12 [==============================] - 0s 24ms/step - loss: 0.0027 - acc: 0.9113 - val_loss: 0.0107 - val_acc: 0.8542\n",
            "Epoch 71/200\n",
            "12/12 [==============================] - 0s 25ms/step - loss: 0.0028 - acc: 0.9033 - val_loss: 0.0110 - val_acc: 0.8264\n",
            "Epoch 72/200\n",
            "12/12 [==============================] - 0s 24ms/step - loss: 0.0026 - acc: 0.9046 - val_loss: 0.0105 - val_acc: 0.8611\n",
            "Epoch 73/200\n",
            "12/12 [==============================] - 0s 24ms/step - loss: 0.0027 - acc: 0.9205 - val_loss: 0.0111 - val_acc: 0.8472\n",
            "Epoch 74/200\n",
            "12/12 [==============================] - 0s 25ms/step - loss: 0.0029 - acc: 0.8993 - val_loss: 0.0103 - val_acc: 0.8472\n",
            "Epoch 75/200\n",
            "12/12 [==============================] - 0s 24ms/step - loss: 0.0028 - acc: 0.9073 - val_loss: 0.0106 - val_acc: 0.8472\n",
            "Epoch 76/200\n",
            "12/12 [==============================] - 0s 25ms/step - loss: 0.0027 - acc: 0.9033 - val_loss: 0.0113 - val_acc: 0.8542\n",
            "Epoch 77/200\n",
            "12/12 [==============================] - 0s 26ms/step - loss: 0.0027 - acc: 0.9113 - val_loss: 0.0107 - val_acc: 0.8472\n",
            "Epoch 78/200\n",
            "12/12 [==============================] - 0s 25ms/step - loss: 0.0025 - acc: 0.9046 - val_loss: 0.0105 - val_acc: 0.8264\n",
            "Epoch 79/200\n",
            "12/12 [==============================] - 0s 24ms/step - loss: 0.0027 - acc: 0.9073 - val_loss: 0.0113 - val_acc: 0.8264\n",
            "Epoch 80/200\n",
            "12/12 [==============================] - 0s 24ms/step - loss: 0.0027 - acc: 0.9113 - val_loss: 0.0113 - val_acc: 0.8264\n",
            "Epoch 81/200\n",
            "12/12 [==============================] - 0s 27ms/step - loss: 0.0027 - acc: 0.9073 - val_loss: 0.0112 - val_acc: 0.8472\n",
            "Epoch 82/200\n",
            "12/12 [==============================] - 0s 24ms/step - loss: 0.0025 - acc: 0.9073 - val_loss: 0.0111 - val_acc: 0.8333\n",
            "Epoch 83/200\n",
            "12/12 [==============================] - 0s 24ms/step - loss: 0.0026 - acc: 0.9113 - val_loss: 0.0104 - val_acc: 0.8472\n",
            "Epoch 84/200\n",
            "12/12 [==============================] - 0s 25ms/step - loss: 0.0028 - acc: 0.9060 - val_loss: 0.0110 - val_acc: 0.8264\n",
            "Epoch 85/200\n",
            "12/12 [==============================] - 0s 27ms/step - loss: 0.0025 - acc: 0.9086 - val_loss: 0.0106 - val_acc: 0.8611\n",
            "Epoch 86/200\n",
            "12/12 [==============================] - 0s 25ms/step - loss: 0.0027 - acc: 0.9139 - val_loss: 0.0105 - val_acc: 0.8542\n",
            "Epoch 87/200\n",
            "12/12 [==============================] - 0s 25ms/step - loss: 0.0027 - acc: 0.9139 - val_loss: 0.0111 - val_acc: 0.8264\n",
            "Epoch 88/200\n",
            "12/12 [==============================] - 0s 26ms/step - loss: 0.0026 - acc: 0.8980 - val_loss: 0.0106 - val_acc: 0.8264\n",
            "Epoch 89/200\n",
            "12/12 [==============================] - 0s 26ms/step - loss: 0.0028 - acc: 0.9179 - val_loss: 0.0106 - val_acc: 0.8403\n",
            "Epoch 90/200\n",
            "12/12 [==============================] - 0s 25ms/step - loss: 0.0024 - acc: 0.9152 - val_loss: 0.0108 - val_acc: 0.8125\n",
            "Epoch 91/200\n",
            "12/12 [==============================] - 0s 25ms/step - loss: 0.0025 - acc: 0.9179 - val_loss: 0.0105 - val_acc: 0.8333\n",
            "Epoch 92/200\n",
            "12/12 [==============================] - 0s 24ms/step - loss: 0.0026 - acc: 0.9073 - val_loss: 0.0108 - val_acc: 0.8194\n",
            "Epoch 93/200\n",
            "12/12 [==============================] - 0s 26ms/step - loss: 0.0025 - acc: 0.8914 - val_loss: 0.0110 - val_acc: 0.8194\n",
            "Epoch 94/200\n",
            "12/12 [==============================] - 0s 27ms/step - loss: 0.0027 - acc: 0.8808 - val_loss: 0.0108 - val_acc: 0.8264\n",
            "Epoch 95/200\n",
            "12/12 [==============================] - 0s 24ms/step - loss: 0.0026 - acc: 0.9007 - val_loss: 0.0111 - val_acc: 0.8750\n",
            "Epoch 96/200\n",
            "12/12 [==============================] - 0s 25ms/step - loss: 0.0028 - acc: 0.8927 - val_loss: 0.0108 - val_acc: 0.8333\n",
            "Epoch 97/200\n",
            "12/12 [==============================] - 0s 24ms/step - loss: 0.0025 - acc: 0.9099 - val_loss: 0.0110 - val_acc: 0.8056\n",
            "Epoch 98/200\n",
            "12/12 [==============================] - 0s 25ms/step - loss: 0.0026 - acc: 0.9099 - val_loss: 0.0106 - val_acc: 0.8194\n",
            "Epoch 99/200\n",
            "12/12 [==============================] - 0s 25ms/step - loss: 0.0027 - acc: 0.9166 - val_loss: 0.0107 - val_acc: 0.8403\n",
            "Epoch 100/200\n",
            "12/12 [==============================] - 0s 26ms/step - loss: 0.0027 - acc: 0.9126 - val_loss: 0.0109 - val_acc: 0.8472\n",
            "Epoch 101/200\n",
            "12/12 [==============================] - 0s 27ms/step - loss: 0.0030 - acc: 0.9086 - val_loss: 0.0104 - val_acc: 0.8125\n",
            "Epoch 102/200\n",
            "12/12 [==============================] - 0s 27ms/step - loss: 0.0029 - acc: 0.8967 - val_loss: 0.0109 - val_acc: 0.8472\n",
            "Epoch 103/200\n",
            "12/12 [==============================] - 0s 25ms/step - loss: 0.0026 - acc: 0.9007 - val_loss: 0.0109 - val_acc: 0.8542\n",
            "Epoch 104/200\n",
            "12/12 [==============================] - 0s 25ms/step - loss: 0.0023 - acc: 0.9166 - val_loss: 0.0103 - val_acc: 0.8542\n",
            "Epoch 105/200\n",
            "12/12 [==============================] - 0s 24ms/step - loss: 0.0025 - acc: 0.9060 - val_loss: 0.0106 - val_acc: 0.8542\n",
            "Epoch 106/200\n",
            "12/12 [==============================] - 0s 25ms/step - loss: 0.0025 - acc: 0.9086 - val_loss: 0.0107 - val_acc: 0.8264\n",
            "Epoch 107/200\n",
            "12/12 [==============================] - 0s 24ms/step - loss: 0.0023 - acc: 0.8993 - val_loss: 0.0102 - val_acc: 0.8472\n",
            "Epoch 108/200\n",
            "12/12 [==============================] - 0s 25ms/step - loss: 0.0025 - acc: 0.8848 - val_loss: 0.0103 - val_acc: 0.8333\n",
            "Epoch 109/200\n",
            "12/12 [==============================] - 0s 26ms/step - loss: 0.0027 - acc: 0.9020 - val_loss: 0.0105 - val_acc: 0.8264\n",
            "Epoch 110/200\n",
            "12/12 [==============================] - 0s 25ms/step - loss: 0.0025 - acc: 0.9086 - val_loss: 0.0107 - val_acc: 0.8542\n",
            "Epoch 111/200\n",
            "12/12 [==============================] - 0s 25ms/step - loss: 0.0025 - acc: 0.9205 - val_loss: 0.0107 - val_acc: 0.8333\n",
            "Epoch 112/200\n",
            "12/12 [==============================] - 0s 26ms/step - loss: 0.0024 - acc: 0.9046 - val_loss: 0.0112 - val_acc: 0.8611\n",
            "Epoch 113/200\n",
            "12/12 [==============================] - 0s 25ms/step - loss: 0.0027 - acc: 0.9086 - val_loss: 0.0103 - val_acc: 0.8403\n",
            "Epoch 114/200\n",
            "12/12 [==============================] - 0s 26ms/step - loss: 0.0025 - acc: 0.9060 - val_loss: 0.0104 - val_acc: 0.8403\n",
            "Epoch 115/200\n",
            "12/12 [==============================] - 0s 25ms/step - loss: 0.0023 - acc: 0.9219 - val_loss: 0.0105 - val_acc: 0.8403\n",
            "Epoch 116/200\n",
            "12/12 [==============================] - 0s 25ms/step - loss: 0.0025 - acc: 0.9073 - val_loss: 0.0105 - val_acc: 0.8681\n",
            "Epoch 117/200\n",
            "12/12 [==============================] - 0s 25ms/step - loss: 0.0026 - acc: 0.9099 - val_loss: 0.0105 - val_acc: 0.8403\n",
            "Epoch 118/200\n",
            "12/12 [==============================] - 0s 25ms/step - loss: 0.0025 - acc: 0.8980 - val_loss: 0.0102 - val_acc: 0.8333\n",
            "Epoch 119/200\n",
            "12/12 [==============================] - 0s 24ms/step - loss: 0.0024 - acc: 0.9033 - val_loss: 0.0109 - val_acc: 0.8819\n",
            "Epoch 120/200\n",
            "12/12 [==============================] - 0s 25ms/step - loss: 0.0023 - acc: 0.9007 - val_loss: 0.0103 - val_acc: 0.8403\n",
            "Epoch 121/200\n",
            "12/12 [==============================] - 0s 26ms/step - loss: 0.0025 - acc: 0.9060 - val_loss: 0.0108 - val_acc: 0.8264\n",
            "Epoch 122/200\n",
            "12/12 [==============================] - 0s 25ms/step - loss: 0.0025 - acc: 0.9113 - val_loss: 0.0106 - val_acc: 0.8264\n",
            "Epoch 123/200\n",
            "12/12 [==============================] - 0s 25ms/step - loss: 0.0025 - acc: 0.9073 - val_loss: 0.0105 - val_acc: 0.8194\n",
            "Epoch 124/200\n",
            "12/12 [==============================] - 0s 26ms/step - loss: 0.0026 - acc: 0.8967 - val_loss: 0.0106 - val_acc: 0.8403\n",
            "Epoch 125/200\n",
            "12/12 [==============================] - 0s 25ms/step - loss: 0.0025 - acc: 0.9113 - val_loss: 0.0102 - val_acc: 0.8333\n",
            "Epoch 126/200\n",
            "12/12 [==============================] - 0s 24ms/step - loss: 0.0027 - acc: 0.9086 - val_loss: 0.0107 - val_acc: 0.8542\n",
            "Epoch 127/200\n",
            "12/12 [==============================] - 0s 25ms/step - loss: 0.0026 - acc: 0.9139 - val_loss: 0.0104 - val_acc: 0.8611\n",
            "Epoch 128/200\n",
            "12/12 [==============================] - 0s 26ms/step - loss: 0.0025 - acc: 0.9073 - val_loss: 0.0111 - val_acc: 0.8750\n",
            "Epoch 129/200\n",
            "12/12 [==============================] - 0s 24ms/step - loss: 0.0025 - acc: 0.9139 - val_loss: 0.0104 - val_acc: 0.8611\n",
            "Epoch 130/200\n",
            "12/12 [==============================] - 0s 25ms/step - loss: 0.0026 - acc: 0.9113 - val_loss: 0.0103 - val_acc: 0.8403\n",
            "Epoch 131/200\n",
            "12/12 [==============================] - 0s 26ms/step - loss: 0.0026 - acc: 0.9073 - val_loss: 0.0108 - val_acc: 0.8264\n",
            "Epoch 132/200\n",
            "12/12 [==============================] - 0s 25ms/step - loss: 0.0026 - acc: 0.9152 - val_loss: 0.0105 - val_acc: 0.8472\n",
            "Epoch 133/200\n",
            "12/12 [==============================] - 0s 24ms/step - loss: 0.0025 - acc: 0.9099 - val_loss: 0.0103 - val_acc: 0.8264\n",
            "Epoch 134/200\n",
            "12/12 [==============================] - 0s 24ms/step - loss: 0.0025 - acc: 0.9060 - val_loss: 0.0106 - val_acc: 0.8264\n",
            "Epoch 135/200\n",
            "12/12 [==============================] - 0s 27ms/step - loss: 0.0024 - acc: 0.9086 - val_loss: 0.0105 - val_acc: 0.8403\n",
            "Epoch 136/200\n",
            "12/12 [==============================] - 0s 28ms/step - loss: 0.0027 - acc: 0.9166 - val_loss: 0.0105 - val_acc: 0.8333\n",
            "Epoch 137/200\n",
            "12/12 [==============================] - 0s 25ms/step - loss: 0.0028 - acc: 0.9060 - val_loss: 0.0108 - val_acc: 0.8333\n",
            "Epoch 138/200\n",
            "12/12 [==============================] - 0s 25ms/step - loss: 0.0027 - acc: 0.9099 - val_loss: 0.0110 - val_acc: 0.8542\n",
            "Epoch 139/200\n",
            "12/12 [==============================] - 0s 25ms/step - loss: 0.0027 - acc: 0.9192 - val_loss: 0.0108 - val_acc: 0.8542\n",
            "Epoch 140/200\n",
            "12/12 [==============================] - 0s 25ms/step - loss: 0.0024 - acc: 0.9073 - val_loss: 0.0112 - val_acc: 0.8542\n",
            "Epoch 141/200\n",
            "12/12 [==============================] - 0s 25ms/step - loss: 0.0025 - acc: 0.8940 - val_loss: 0.0109 - val_acc: 0.8403\n",
            "Epoch 142/200\n",
            "12/12 [==============================] - 0s 26ms/step - loss: 0.0024 - acc: 0.8940 - val_loss: 0.0102 - val_acc: 0.8611\n",
            "Epoch 143/200\n",
            "12/12 [==============================] - 0s 25ms/step - loss: 0.0023 - acc: 0.9060 - val_loss: 0.0102 - val_acc: 0.8611\n",
            "Epoch 144/200\n",
            "12/12 [==============================] - 0s 25ms/step - loss: 0.0026 - acc: 0.9113 - val_loss: 0.0106 - val_acc: 0.8472\n",
            "Epoch 145/200\n",
            "12/12 [==============================] - 0s 24ms/step - loss: 0.0025 - acc: 0.9113 - val_loss: 0.0103 - val_acc: 0.8681\n",
            "Epoch 146/200\n",
            "12/12 [==============================] - 0s 25ms/step - loss: 0.0026 - acc: 0.9033 - val_loss: 0.0112 - val_acc: 0.8333\n",
            "Epoch 147/200\n",
            "12/12 [==============================] - 0s 25ms/step - loss: 0.0024 - acc: 0.9046 - val_loss: 0.0114 - val_acc: 0.8403\n",
            "Epoch 148/200\n",
            "12/12 [==============================] - 0s 26ms/step - loss: 0.0025 - acc: 0.9060 - val_loss: 0.0105 - val_acc: 0.8472\n",
            "Epoch 149/200\n",
            "12/12 [==============================] - 0s 26ms/step - loss: 0.0026 - acc: 0.8980 - val_loss: 0.0106 - val_acc: 0.8472\n",
            "Epoch 150/200\n",
            "12/12 [==============================] - 0s 25ms/step - loss: 0.0024 - acc: 0.9192 - val_loss: 0.0104 - val_acc: 0.8264\n",
            "Epoch 151/200\n",
            "12/12 [==============================] - 0s 27ms/step - loss: 0.0024 - acc: 0.9166 - val_loss: 0.0107 - val_acc: 0.8403\n",
            "Epoch 152/200\n",
            "12/12 [==============================] - 0s 25ms/step - loss: 0.0022 - acc: 0.9046 - val_loss: 0.0106 - val_acc: 0.8333\n",
            "Epoch 153/200\n",
            "12/12 [==============================] - 0s 25ms/step - loss: 0.0025 - acc: 0.9166 - val_loss: 0.0108 - val_acc: 0.8542\n",
            "Epoch 154/200\n",
            "12/12 [==============================] - 0s 24ms/step - loss: 0.0024 - acc: 0.9179 - val_loss: 0.0108 - val_acc: 0.8403\n",
            "Epoch 155/200\n",
            "12/12 [==============================] - 0s 26ms/step - loss: 0.0023 - acc: 0.9086 - val_loss: 0.0103 - val_acc: 0.8472\n",
            "Epoch 156/200\n",
            "12/12 [==============================] - 0s 24ms/step - loss: 0.0024 - acc: 0.9007 - val_loss: 0.0105 - val_acc: 0.8472\n",
            "Epoch 157/200\n",
            "12/12 [==============================] - 0s 24ms/step - loss: 0.0024 - acc: 0.8848 - val_loss: 0.0102 - val_acc: 0.8611\n",
            "Epoch 158/200\n",
            "12/12 [==============================] - 0s 26ms/step - loss: 0.0024 - acc: 0.9099 - val_loss: 0.0105 - val_acc: 0.8611\n",
            "Epoch 159/200\n",
            "12/12 [==============================] - 0s 27ms/step - loss: 0.0024 - acc: 0.9126 - val_loss: 0.0109 - val_acc: 0.8333\n",
            "Epoch 160/200\n",
            "12/12 [==============================] - 0s 26ms/step - loss: 0.0024 - acc: 0.9046 - val_loss: 0.0108 - val_acc: 0.8333\n",
            "Epoch 161/200\n",
            "12/12 [==============================] - 0s 25ms/step - loss: 0.0021 - acc: 0.9298 - val_loss: 0.0104 - val_acc: 0.8681\n",
            "Epoch 162/200\n",
            "12/12 [==============================] - 0s 26ms/step - loss: 0.0022 - acc: 0.9139 - val_loss: 0.0105 - val_acc: 0.8264\n",
            "Epoch 163/200\n",
            "12/12 [==============================] - 0s 25ms/step - loss: 0.0024 - acc: 0.9113 - val_loss: 0.0100 - val_acc: 0.8611\n",
            "Epoch 164/200\n",
            "12/12 [==============================] - 0s 25ms/step - loss: 0.0023 - acc: 0.9152 - val_loss: 0.0109 - val_acc: 0.8333\n",
            "Epoch 165/200\n",
            "12/12 [==============================] - 0s 25ms/step - loss: 0.0025 - acc: 0.8993 - val_loss: 0.0102 - val_acc: 0.8819\n",
            "Epoch 166/200\n",
            "12/12 [==============================] - 0s 25ms/step - loss: 0.0024 - acc: 0.9060 - val_loss: 0.0103 - val_acc: 0.8611\n",
            "Epoch 167/200\n",
            "12/12 [==============================] - 0s 25ms/step - loss: 0.0024 - acc: 0.9152 - val_loss: 0.0104 - val_acc: 0.8611\n",
            "Epoch 168/200\n",
            "12/12 [==============================] - 0s 27ms/step - loss: 0.0022 - acc: 0.9192 - val_loss: 0.0102 - val_acc: 0.8472\n",
            "Epoch 169/200\n",
            "12/12 [==============================] - 0s 28ms/step - loss: 0.0023 - acc: 0.9086 - val_loss: 0.0102 - val_acc: 0.8542\n",
            "Epoch 170/200\n",
            "12/12 [==============================] - 0s 29ms/step - loss: 0.0025 - acc: 0.9086 - val_loss: 0.0102 - val_acc: 0.8403\n",
            "Epoch 171/200\n",
            "12/12 [==============================] - 0s 27ms/step - loss: 0.0024 - acc: 0.9192 - val_loss: 0.0103 - val_acc: 0.8542\n",
            "Epoch 172/200\n",
            "12/12 [==============================] - 0s 25ms/step - loss: 0.0022 - acc: 0.9179 - val_loss: 0.0103 - val_acc: 0.8542\n",
            "Epoch 173/200\n",
            "12/12 [==============================] - 0s 25ms/step - loss: 0.0024 - acc: 0.9272 - val_loss: 0.0106 - val_acc: 0.8472\n",
            "Epoch 174/200\n",
            "12/12 [==============================] - 0s 27ms/step - loss: 0.0022 - acc: 0.8993 - val_loss: 0.0104 - val_acc: 0.8542\n",
            "Epoch 175/200\n",
            "12/12 [==============================] - 0s 25ms/step - loss: 0.0023 - acc: 0.9166 - val_loss: 0.0105 - val_acc: 0.8333\n",
            "Epoch 176/200\n",
            "12/12 [==============================] - 0s 25ms/step - loss: 0.0023 - acc: 0.9086 - val_loss: 0.0100 - val_acc: 0.8542\n",
            "Epoch 177/200\n",
            "12/12 [==============================] - 0s 26ms/step - loss: 0.0022 - acc: 0.9007 - val_loss: 0.0106 - val_acc: 0.8472\n",
            "Epoch 178/200\n",
            "12/12 [==============================] - 0s 26ms/step - loss: 0.0022 - acc: 0.9192 - val_loss: 0.0102 - val_acc: 0.8542\n",
            "Epoch 179/200\n",
            "12/12 [==============================] - 0s 24ms/step - loss: 0.0022 - acc: 0.9073 - val_loss: 0.0101 - val_acc: 0.8472\n",
            "Epoch 180/200\n",
            "12/12 [==============================] - 0s 25ms/step - loss: 0.0022 - acc: 0.9166 - val_loss: 0.0105 - val_acc: 0.8542\n",
            "Epoch 181/200\n",
            "12/12 [==============================] - 0s 25ms/step - loss: 0.0022 - acc: 0.9139 - val_loss: 0.0098 - val_acc: 0.8958\n",
            "Epoch 182/200\n",
            "12/12 [==============================] - 0s 25ms/step - loss: 0.0023 - acc: 0.9060 - val_loss: 0.0103 - val_acc: 0.8611\n",
            "Epoch 183/200\n",
            "12/12 [==============================] - 0s 24ms/step - loss: 0.0023 - acc: 0.9139 - val_loss: 0.0104 - val_acc: 0.8611\n",
            "Epoch 184/200\n",
            "12/12 [==============================] - 0s 26ms/step - loss: 0.0022 - acc: 0.9113 - val_loss: 0.0107 - val_acc: 0.8125\n",
            "Epoch 185/200\n",
            "12/12 [==============================] - 0s 26ms/step - loss: 0.0023 - acc: 0.9139 - val_loss: 0.0107 - val_acc: 0.8403\n",
            "Epoch 186/200\n",
            "12/12 [==============================] - 0s 25ms/step - loss: 0.0023 - acc: 0.9166 - val_loss: 0.0106 - val_acc: 0.8264\n",
            "Epoch 187/200\n",
            "12/12 [==============================] - 0s 25ms/step - loss: 0.0024 - acc: 0.9113 - val_loss: 0.0102 - val_acc: 0.8472\n",
            "Epoch 188/200\n",
            "12/12 [==============================] - 0s 25ms/step - loss: 0.0023 - acc: 0.9205 - val_loss: 0.0099 - val_acc: 0.8750\n",
            "Epoch 189/200\n",
            "12/12 [==============================] - 0s 25ms/step - loss: 0.0024 - acc: 0.9046 - val_loss: 0.0103 - val_acc: 0.8542\n",
            "Epoch 190/200\n",
            "12/12 [==============================] - 0s 24ms/step - loss: 0.0023 - acc: 0.9113 - val_loss: 0.0102 - val_acc: 0.9028\n",
            "Epoch 191/200\n",
            "12/12 [==============================] - 0s 26ms/step - loss: 0.0024 - acc: 0.9033 - val_loss: 0.0104 - val_acc: 0.8750\n",
            "Epoch 192/200\n",
            "12/12 [==============================] - 0s 25ms/step - loss: 0.0024 - acc: 0.9232 - val_loss: 0.0108 - val_acc: 0.8403\n",
            "Epoch 193/200\n",
            "12/12 [==============================] - 0s 26ms/step - loss: 0.0024 - acc: 0.9073 - val_loss: 0.0100 - val_acc: 0.8681\n",
            "Epoch 194/200\n",
            "12/12 [==============================] - 0s 26ms/step - loss: 0.0023 - acc: 0.9126 - val_loss: 0.0102 - val_acc: 0.8681\n",
            "Epoch 195/200\n",
            "12/12 [==============================] - 0s 26ms/step - loss: 0.0022 - acc: 0.9179 - val_loss: 0.0101 - val_acc: 0.8819\n",
            "Epoch 196/200\n",
            "12/12 [==============================] - 0s 25ms/step - loss: 0.0022 - acc: 0.8927 - val_loss: 0.0100 - val_acc: 0.8333\n",
            "Epoch 197/200\n",
            "12/12 [==============================] - 0s 25ms/step - loss: 0.0023 - acc: 0.9086 - val_loss: 0.0106 - val_acc: 0.8333\n",
            "Epoch 198/200\n",
            "12/12 [==============================] - 0s 25ms/step - loss: 0.0023 - acc: 0.8993 - val_loss: 0.0104 - val_acc: 0.8472\n",
            "Epoch 199/200\n",
            "12/12 [==============================] - 0s 26ms/step - loss: 0.0022 - acc: 0.9113 - val_loss: 0.0101 - val_acc: 0.8611\n",
            "Epoch 200/200\n",
            "12/12 [==============================] - 0s 27ms/step - loss: 0.0023 - acc: 0.9152 - val_loss: 0.0104 - val_acc: 0.9097\n"
          ],
          "name": "stdout"
        }
      ]
    },
    {
      "cell_type": "code",
      "metadata": {
        "colab": {
          "base_uri": "https://localhost:8080/",
          "height": 562
        },
        "id": "Msgk1Qu2DcaL",
        "outputId": "da65be55-edf8-4f76-e708-61875a671fbb"
      },
      "source": [
        "import matplotlib.pyplot as plt\n",
        "# Retrieve a list of accuracy results on training and validation data\n",
        "# sets for each training epoch\n",
        "acc = history.history['acc']\n",
        "val_acc = history.history['val_acc']\n",
        " \n",
        "# Retrieve a list of list results on training and validation data\n",
        "# sets for each training epoch\n",
        "loss = history.history['loss']\n",
        "val_loss = history.history['val_loss']\n",
        " \n",
        "# Get number of epochs\n",
        "epochs = range(len(acc))\n",
        " \n",
        "# Plot training and validation accuracy per epoch\n",
        "plt.plot(epochs, acc)\n",
        "plt.plot(epochs, val_acc)\n",
        "plt.title('Training and validation accuracy')\n",
        " \n",
        "plt.figure()\n",
        " \n",
        "# Plot training and validation loss per epoch\n",
        "plt.plot(epochs, loss)\n",
        "plt.plot(epochs, val_loss)\n",
        "plt.title('Training and validation loss')"
      ],
      "execution_count": 771,
      "outputs": [
        {
          "output_type": "execute_result",
          "data": {
            "text/plain": [
              "Text(0.5, 1.0, 'Training and validation loss')"
            ]
          },
          "metadata": {
            "tags": []
          },
          "execution_count": 771
        },
        {
          "output_type": "display_data",
          "data": {
            "image/png": "[encoded data removed]",
            "text/plain": [
              "<Figure size 432x288 with 1 Axes>"
            ]
          },
          "metadata": {
            "tags": [],
            "needs_background": "light"
          }
        },
        {
          "output_type": "display_data",
          "data": {
            "image/png": "[encoded data removed]",
            "text/plain": [
              "<Figure size 432x288 with 1 Axes>"
            ]
          },
          "metadata": {
            "tags": [],
            "needs_background": "light"
          }
        }
      ]
    },
    {
      "cell_type": "code",
      "metadata": {
        "id": "fXOJuESb0yby"
      },
      "source": [
        "def scale(x):\n",
        "  x=x*255\n",
        "  #print(x)\n",
        "  return x"
      ],
      "execution_count": 772,
      "outputs": []
    },
    {
      "cell_type": "code",
      "metadata": {
        "id": "yE-PWyj06oze"
      },
      "source": [
        "import matplotlib.pyplot as plt\n",
        "def predict(name):\n",
        "    name = name.lower()\n",
        "    tokenized = nltk.word_tokenize(name)\n",
        "    tokenized= [vocab_dict[word] for word in tokenized]\n",
        "    tokenized=np.array(tokenized)\n",
        "    # print(tokenized.dtype)\n",
        "    # print(tokenized.shape)\n",
        "    # print(tokenized)\n",
        "    # print(tokenized[0])\n",
        "    padded = preprocessing.sequence.pad_sequences([tokenized], maxlen=maxlen)\n",
        "    #print(tokenized)\n",
        "    pred = model.predict(np.array(padded))[0]\n",
        "    #print(pred)\n",
        "    r, g, b = scale(pred[0]), scale(pred[1]), scale(pred[2])\n",
        "    print(name + ',', 'R,G,B:', r,g,b)\n",
        "    img=np.zeros([2,2,3])\n",
        "    channel=[r,g,b]\n",
        "    for c in range(3):\n",
        "      img[:,:,c]=channel[c]\n",
        "    img=img.astype(np.uint8)\n",
        "    plt.imshow(img)\n",
        "    plt.show()"
      ],
      "execution_count": 773,
      "outputs": []
    },
    {
      "cell_type": "code",
      "metadata": {
        "colab": {
          "base_uri": "https://localhost:8080/",
          "height": 1000
        },
        "id": "sQwfPLM_OZhq",
        "outputId": "101af7b5-d7dc-4444-f522-97026ba07f65"
      },
      "source": [
        "predict('white')\n",
        "predict('black')\n",
        "predict('gray')\n",
        "predict('violet')\n",
        "predict('indigo')\n",
        "predict('blue')\n",
        "predict('green')\n",
        "predict('yellow')\n",
        "predict('orange')\n",
        "predict('red')"
      ],
      "execution_count": 774,
      "outputs": [
        {
          "output_type": "stream",
          "text": [
            "white, R,G,B: 251.98274910449982 246.82092368602753 243.30279886722565\n"
          ],
          "name": "stdout"
        },
        {
          "output_type": "display_data",
          "data": {
            "image/png": "[encoded data removed]",
            "text/plain": [
              "<Figure size 432x288 with 1 Axes>"
            ]
          },
          "metadata": {
            "tags": [],
            "needs_background": "light"
          }
        },
        {
          "output_type": "stream",
          "text": [
            "black, R,G,B: 4.215660989284515 6.282256096601486 7.665967047214508\n"
          ],
          "name": "stdout"
        },
        {
          "output_type": "display_data",
          "data": {
            "image/png": "[encoded data removed]",
            "text/plain": [
              "<Figure size 432x288 with 1 Axes>"
            ]
          },
          "metadata": {
            "tags": [],
            "needs_background": "light"
          }
        },
        {
          "output_type": "stream",
          "text": [
            "gray, R,G,B: 132.39570289850235 122.02447861433029 127.39309653639793\n"
          ],
          "name": "stdout"
        },
        {
          "output_type": "display_data",
          "data": {
            "image/png": "[encoded data removed]",
            "text/plain": [
              "<Figure size 432x288 with 1 Axes>"
            ]
          },
          "metadata": {
            "tags": [],
            "needs_background": "light"
          }
        },
        {
          "output_type": "stream",
          "text": [
            "violet, R,G,B: 143.5609781742096 4.841145426034927 244.92139041423798\n"
          ],
          "name": "stdout"
        },
        {
          "output_type": "display_data",
          "data": {
            "image/png": "[encoded data removed]",
            "text/plain": [
              "<Figure size 432x288 with 1 Axes>"
            ]
          },
          "metadata": {
            "tags": [],
            "needs_background": "light"
          }
        },
        {
          "output_type": "stream",
          "text": [
            "indigo, R,G,B: 73.56041997671127 5.026985853910446 124.16868835687637\n"
          ],
          "name": "stdout"
        },
        {
          "output_type": "display_data",
          "data": {
            "image/png": "[encoded data removed]",
            "text/plain": [
              "<Figure size 432x288 with 1 Axes>"
            ]
          },
          "metadata": {
            "tags": [],
            "needs_background": "light"
          }
        },
        {
          "output_type": "stream",
          "text": [
            "blue, R,G,B: 3.0400648713111877 15.185641944408417 239.83069717884064\n"
          ],
          "name": "stdout"
        },
        {
          "output_type": "display_data",
          "data": {
            "image/png": "[encoded data removed]",
            "text/plain": [
              "<Figure size 432x288 with 1 Axes>"
            ]
          },
          "metadata": {
            "tags": [],
            "needs_background": "light"
          }
        },
        {
          "output_type": "stream",
          "text": [
            "green, R,G,B: 9.06978651881218 242.62646555900574 11.496944278478622\n"
          ],
          "name": "stdout"
        },
        {
          "output_type": "display_data",
          "data": {
            "image/png": "[encoded data removed]",
            "text/plain": [
              "<Figure size 432x288 with 1 Axes>"
            ]
          },
          "metadata": {
            "tags": [],
            "needs_background": "light"
          }
        },
        {
          "output_type": "stream",
          "text": [
            "yellow, R,G,B: 253.046236038208 243.51469069719315 2.0451034605503082\n"
          ],
          "name": "stdout"
        },
        {
          "output_type": "display_data",
          "data": {
            "image/png": "[encoded data removed]",
            "text/plain": [
              "<Figure size 432x288 with 1 Axes>"
            ]
          },
          "metadata": {
            "tags": [],
            "needs_background": "light"
          }
        },
        {
          "output_type": "stream",
          "text": [
            "orange, R,G,B: 252.72538125514984 160.41035324335098 2.588633894920349\n"
          ],
          "name": "stdout"
        },
        {
          "output_type": "display_data",
          "data": {
            "image/png": "[encoded data removed]",
            "text/plain": [
              "<Figure size 432x288 with 1 Axes>"
            ]
          },
          "metadata": {
            "tags": [],
            "needs_background": "light"
          }
        },
        {
          "output_type": "stream",
          "text": [
            "red, R,G,B: 246.1600023508072 7.922650873661041 7.536120414733887\n"
          ],
          "name": "stdout"
        },
        {
          "output_type": "display_data",
          "data": {
            "image/png": "[encoded data removed]",
            "text/plain": [
              "<Figure size 432x288 with 1 Axes>"
            ]
          },
          "metadata": {
            "tags": [],
            "needs_background": "light"
          }
        }
      ]
    },
    {
      "cell_type": "code",
      "metadata": {
        "colab": {
          "base_uri": "https://localhost:8080/",
          "height": 1000
        },
        "id": "hayKaaCd6qui",
        "outputId": "5c5c9f85-7278-425e-fa8d-2794fb37eaac"
      },
      "source": [
        "predict('royal green')\n",
        "predict('very dark green')\n",
        "predict('dark green')\n",
        "predict('forest')\n",
        "predict('green')\n",
        "predict('light green')\n",
        "predict('very light green')\n",
        "predict('lemon')\n",
        "predict('green lemon')\n",
        "# predict('greenish lemon')\n",
        "# predict('lemon lime')\n",
        "\n",
        "predict('violet')\n",
        "predict('purple')\n",
        "predict('indigo')"
      ],
      "execution_count": 790,
      "outputs": [
        {
          "output_type": "stream",
          "text": [
            "royal green, R,G,B: 20.057710111141205 116.44806504249573 94.27335172891617\n"
          ],
          "name": "stdout"
        },
        {
          "output_type": "display_data",
          "data": {
            "image/png": "[encoded data removed]",
            "text/plain": [
              "<Figure size 432x288 with 1 Axes>"
            ]
          },
          "metadata": {
            "tags": [],
            "needs_background": "light"
          }
        },
        {
          "output_type": "stream",
          "text": [
            "very dark green, R,G,B: 8.46178874373436 58.42089995741844 36.45073726773262\n"
          ],
          "name": "stdout"
        },
        {
          "output_type": "display_data",
          "data": {
            "image/png": "[encoded data removed]",
            "text/plain": [
              "<Figure size 432x288 with 1 Axes>"
            ]
          },
          "metadata": {
            "tags": [],
            "needs_background": "light"
          }
        },
        {
          "output_type": "stream",
          "text": [
            "dark green, R,G,B: 10.950693190097809 102.01622664928436 14.421502947807312\n"
          ],
          "name": "stdout"
        },
        {
          "output_type": "display_data",
          "data": {
            "image/png": "[encoded data removed]",
            "text/plain": [
              "<Figure size 432x288 with 1 Axes>"
            ]
          },
          "metadata": {
            "tags": [],
            "needs_background": "light"
          }
        },
        {
          "output_type": "stream",
          "text": [
            "forest, R,G,B: 27.535974830389023 139.5729097723961 32.22562998533249\n"
          ],
          "name": "stdout"
        },
        {
          "output_type": "display_data",
          "data": {
            "image/png": "[encoded data removed]",
            "text/plain": [
              "<Figure size 432x288 with 1 Axes>"
            ]
          },
          "metadata": {
            "tags": [],
            "needs_background": "light"
          }
        },
        {
          "output_type": "stream",
          "text": [
            "green, R,G,B: 9.06978651881218 242.62646555900574 11.496944278478622\n"
          ],
          "name": "stdout"
        },
        {
          "output_type": "display_data",
          "data": {
            "image/png": "[encoded data removed]",
            "text/plain": [
              "<Figure size 432x288 with 1 Axes>"
            ]
          },
          "metadata": {
            "tags": [],
            "needs_background": "light"
          }
        },
        {
          "output_type": "stream",
          "text": [
            "light green, R,G,B: 143.92949759960175 240.4673758149147 145.17970651388168\n"
          ],
          "name": "stdout"
        },
        {
          "output_type": "display_data",
          "data": {
            "image/png": "[encoded data removed]",
            "text/plain": [
              "<Figure size 432x288 with 1 Axes>"
            ]
          },
          "metadata": {
            "tags": [],
            "needs_background": "light"
          }
        },
        {
          "output_type": "stream",
          "text": [
            "very light green, R,G,B: 158.26644748449326 229.97049987316132 137.75805115699768\n"
          ],
          "name": "stdout"
        },
        {
          "output_type": "display_data",
          "data": {
            "image/png": "[encoded data removed]",
            "text/plain": [
              "<Figure size 432x288 with 1 Axes>"
            ]
          },
          "metadata": {
            "tags": [],
            "needs_background": "light"
          }
        },
        {
          "output_type": "stream",
          "text": [
            "lemon, R,G,B: 249.2523980140686 247.53181993961334 3.8136501610279083\n"
          ],
          "name": "stdout"
        },
        {
          "output_type": "display_data",
          "data": {
            "image/png": "[encoded data removed]",
            "text/plain": [
              "<Figure size 432x288 with 1 Axes>"
            ]
          },
          "metadata": {
            "tags": [],
            "needs_background": "light"
          }
        },
        {
          "output_type": "stream",
          "text": [
            "green lemon, R,G,B: 230.19848763942719 252.23572432994843 2.380298674106598\n"
          ],
          "name": "stdout"
        },
        {
          "output_type": "display_data",
          "data": {
            "image/png": "[encoded data removed]",
            "text/plain": [
              "<Figure size 432x288 with 1 Axes>"
            ]
          },
          "metadata": {
            "tags": [],
            "needs_background": "light"
          }
        },
        {
          "output_type": "stream",
          "text": [
            "violet, R,G,B: 143.5609781742096 4.841145426034927 244.92139041423798\n"
          ],
          "name": "stdout"
        },
        {
          "output_type": "display_data",
          "data": {
            "image/png": "[encoded data removed]",
            "text/plain": [
              "<Figure size 432x288 with 1 Axes>"
            ]
          },
          "metadata": {
            "tags": [],
            "needs_background": "light"
          }
        },
        {
          "output_type": "stream",
          "text": [
            "purple, R,G,B: 120.29530540108681 23.832602351903915 122.73037433624268\n"
          ],
          "name": "stdout"
        },
        {
          "output_type": "display_data",
          "data": {
            "image/png": "[encoded data removed]",
            "text/plain": [
              "<Figure size 432x288 with 1 Axes>"
            ]
          },
          "metadata": {
            "tags": [],
            "needs_background": "light"
          }
        },
        {
          "output_type": "stream",
          "text": [
            "indigo, R,G,B: 73.56041997671127 5.026985853910446 124.16868835687637\n"
          ],
          "name": "stdout"
        },
        {
          "output_type": "display_data",
          "data": {
            "image/png": "[encoded data removed]",
            "text/plain": [
              "<Figure size 432x288 with 1 Axes>"
            ]
          },
          "metadata": {
            "tags": [],
            "needs_background": "light"
          }
        }
      ]
    },
    {
      "cell_type": "code",
      "metadata": {
        "colab": {
          "base_uri": "https://localhost:8080/",
          "height": 1000
        },
        "id": "aNsnvFZ-6sgv",
        "outputId": "38500adc-361a-41b1-ebca-766f22368639"
      },
      "source": [
        "while(True):\n",
        "  string=input(\"enter a color:\")\n",
        "  if (string=='no'):\n",
        "    break\n",
        "  predict(string)"
      ],
      "execution_count": 794,
      "outputs": [
        {
          "output_type": "stream",
          "text": [
            "peach, R,G,B: 250.76175302267075 138.8120537996292 82.66435146331787\n"
          ],
          "name": "stdout"
        },
        {
          "output_type": "display_data",
          "data": {
            "image/png": "[encoded data removed]",
            "text/plain": [
              "<Figure size 432x288 with 1 Axes>"
            ]
          },
          "metadata": {
            "tags": []
          }
        },
        {
          "output_type": "stream",
          "text": [
            "deep peach, R,G,B: 248.6568483710289 107.73236632347107 107.60537713766098\n"
          ],
          "name": "stdout"
        },
        {
          "output_type": "display_data",
          "data": {
            "image/png": "[encoded data removed]",
            "text/plain": [
              "<Figure size 432x288 with 1 Axes>"
            ]
          },
          "metadata": {
            "tags": []
          }
        },
        {
          "output_type": "stream",
          "text": [
            "very deep peach, R,G,B: 208.97732555866241 59.64197963476181 110.98028004169464\n"
          ],
          "name": "stdout"
        },
        {
          "output_type": "display_data",
          "data": {
            "image/png": "[encoded data removed]",
            "text/plain": [
              "<Figure size 432x288 with 1 Axes>"
            ]
          },
          "metadata": {
            "tags": []
          }
        },
        {
          "output_type": "stream",
          "text": [
            "deep peach, R,G,B: 248.6568483710289 107.73236632347107 107.60537713766098\n"
          ],
          "name": "stdout"
        },
        {
          "output_type": "display_data",
          "data": {
            "image/png": "[encoded data removed]",
            "text/plain": [
              "<Figure size 432x288 with 1 Axes>"
            ]
          },
          "metadata": {
            "tags": []
          }
        },
        {
          "output_type": "stream",
          "text": [
            "peach, R,G,B: 250.76175302267075 138.8120537996292 82.66435146331787\n"
          ],
          "name": "stdout"
        },
        {
          "output_type": "display_data",
          "data": {
            "image/png": "[encoded data removed]",
            "text/plain": [
              "<Figure size 432x288 with 1 Axes>"
            ]
          },
          "metadata": {
            "tags": []
          }
        },
        {
          "output_type": "stream",
          "text": [
            "light peach, R,G,B: 253.03368151187897 186.02500677108765 114.16812658309937\n"
          ],
          "name": "stdout"
        },
        {
          "output_type": "display_data",
          "data": {
            "image/png": "[encoded data removed]",
            "text/plain": [
              "<Figure size 432x288 with 1 Axes>"
            ]
          },
          "metadata": {
            "tags": []
          }
        },
        {
          "output_type": "stream",
          "text": [
            "very light peach, R,G,B: 252.19152510166168 213.9141270518303 155.36278009414673\n"
          ],
          "name": "stdout"
        },
        {
          "output_type": "display_data",
          "data": {
            "image/png": "[encoded data removed]",
            "text/plain": [
              "<Figure size 432x288 with 1 Axes>"
            ]
          },
          "metadata": {
            "tags": []
          }
        },
        {
          "output_type": "stream",
          "text": [
            "enter a color:no\n"
          ],
          "name": "stdout"
        }
      ]
    },
    {
      "cell_type": "code",
      "metadata": {
        "id": "hZ5hMhdV-Bjr"
      },
      "source": [
        "model.save('wordtorgb.h5')"
      ],
      "execution_count": 793,
      "outputs": []
    },
    {
      "cell_type": "code",
      "metadata": {
        "colab": {
          "base_uri": "https://localhost:8080/",
          "height": 302
        },
        "id": "ceAPfNvJEqh2",
        "outputId": "9a8c39d5-9978-45f9-f07d-285bf0a221e8"
      },
      "source": [
        "import time\n",
        "time1=time.time()\n",
        "predict('red green blue')\n",
        "print(time.time()-time1,\"ms\")"
      ],
      "execution_count": 776,
      "outputs": [
        {
          "output_type": "stream",
          "text": [
            "red green blue, R,G,B: 21.702565848827362 107.68716394901276 176.343232691288\n"
          ],
          "name": "stdout"
        },
        {
          "output_type": "display_data",
          "data": {
            "image/png": "[encoded data removed]",
            "text/plain": [
              "<Figure size 432x288 with 1 Axes>"
            ]
          },
          "metadata": {
            "tags": [],
            "needs_background": "light"
          }
        },
        {
          "output_type": "stream",
          "text": [
            "0.22023797035217285 ms\n"
          ],
          "name": "stdout"
        }
      ]
    },
    {
      "cell_type": "markdown",
      "metadata": {
        "id": "6NGwjFdXjt9s"
      },
      "source": [
        "analysis"
      ]
    },
    {
      "cell_type": "code",
      "metadata": {
        "id": "UfTfw7jjp0r5"
      },
      "source": [
        "#normalized_values"
      ],
      "execution_count": 777,
      "outputs": []
    },
    {
      "cell_type": "code",
      "metadata": {
        "id": "SAF4o0O3eecM"
      },
      "source": [
        ""
      ],
      "execution_count": 777,
      "outputs": []
    },
    {
      "cell_type": "code",
      "metadata": {
        "id": "HgR_H-zze_5t"
      },
      "source": [
        ""
      ],
      "execution_count": 777,
      "outputs": []
    },
    {
      "cell_type": "code",
      "metadata": {
        "colab": {
          "base_uri": "https://localhost:8080/"
        },
        "id": "VcbxzC6Yf_t_",
        "outputId": "c4cf5eb0-ff5b-410b-9ddc-a37b4f561a1c"
      },
      "source": [
        "y_hat=model.predict(test_padded_names)\n",
        "y_hat[:3]\n",
        "#y_hat=scale(y_hat)"
      ],
      "execution_count": 785,
      "outputs": [
        {
          "output_type": "execute_result",
          "data": {
            "text/plain": [
              "array([[0.93570685, 0.9588035 , 0.97456765],\n",
              "       [0.97426   , 0.9250566 , 0.8407027 ],\n",
              "       [0.01317364, 0.9799511 , 0.98327214]], dtype=float32)"
            ]
          },
          "metadata": {
            "tags": []
          },
          "execution_count": 785
        }
      ]
    },
    {
      "cell_type": "code",
      "metadata": {
        "id": "85f97s-KtZgp"
      },
      "source": [
        "y_hat=scale(y_hat)\n",
        "r=np.array(data_test['R'])\n",
        "r=r.reshape([r.shape[0],1])\n",
        "g=np.array(data_test['G'])\n",
        "g=g.reshape([g.shape[0],1])\n",
        "b=np.array(data_test['B'])\n",
        "b=b.reshape([b.shape[0],1])\n",
        "test_rgb_values=np.concatenate((r,g,b),axis=1)"
      ],
      "execution_count": 786,
      "outputs": []
    },
    {
      "cell_type": "code",
      "metadata": {
        "id": "Cc5vi4dEgfoi",
        "colab": {
          "base_uri": "https://localhost:8080/"
        },
        "outputId": "4079e66c-f483-4a89-bb3f-1de94efc9c86"
      },
      "source": [
        "y_hat[:3]"
      ],
      "execution_count": 787,
      "outputs": [
        {
          "output_type": "execute_result",
          "data": {
            "text/plain": [
              "array([[238.60526  , 244.49489  , 248.51476  ],\n",
              "       [248.4363   , 235.88942  , 214.3792   ],\n",
              "       [  3.3592782, 249.88753  , 250.73439  ]], dtype=float32)"
            ]
          },
          "metadata": {
            "tags": []
          },
          "execution_count": 787
        }
      ]
    },
    {
      "cell_type": "code",
      "metadata": {
        "id": "YO-RiED5p6gh"
      },
      "source": [
        "# def similiarity(y_hat,y):\n"
      ],
      "execution_count": 781,
      "outputs": []
    },
    {
      "cell_type": "code",
      "metadata": {
        "id": "rechrz6WqcIg"
      },
      "source": [
        "def plot(y_hat,y):\n",
        "  \n",
        "    name = name.lower()\n",
        "    tokenized = nltk.word_tokenize(name)\n",
        "    tokenized= [vocab_dict[word] for word in tokenized]\n",
        "    tokenized=np.array(tokenized)\n",
        "    # print(tokenized.dtype)\n",
        "    # print(tokenized.shape)\n",
        "    # print(tokenized)\n",
        "    # print(tokenized[0])\n",
        "    padded = preprocessing.sequence.pad_sequences([tokenized], maxlen=maxlen)\n",
        "    #print(tokenized)\n",
        "    pred = model.predict(np.array(padded))[0]\n",
        "    #print(pred)\n",
        "    r, g, b = scale(pred[0]), scale(pred[1]), scale(pred[2])\n",
        "    print(name + ',', 'R,G,B:', r,g,b)\n",
        "    img=np.zeros([2,2,3])\n",
        "    channel=[r,g,b]\n",
        "    for c in range(3):\n",
        "      img[:,:,c]=channel[c]\n",
        "    img=img.astype(np.uint8)\n",
        "    plt.imshow(img)\n",
        "    plt.show()"
      ],
      "execution_count": 782,
      "outputs": []
    },
    {
      "cell_type": "code",
      "metadata": {
        "colab": {
          "base_uri": "https://localhost:8080/"
        },
        "id": "Updunjyquf7X",
        "outputId": "0a257555-14b9-495d-dc17-651e01192dd7"
      },
      "source": [
        "y_hat.shape[0]"
      ],
      "execution_count": 783,
      "outputs": [
        {
          "output_type": "execute_result",
          "data": {
            "text/plain": [
              "144"
            ]
          },
          "metadata": {
            "tags": []
          },
          "execution_count": 783
        }
      ]
    },
    {
      "cell_type": "code",
      "metadata": {
        "id": "0XZzwhAow95S"
      },
      "source": [
        ""
      ],
      "execution_count": 783,
      "outputs": []
    },
    {
      "cell_type": "code",
      "metadata": {
        "colab": {
          "base_uri": "https://localhost:8080/",
          "height": 1000
        },
        "id": "P35DC_sKrOXs",
        "outputId": "ad88a399-5f81-4a64-efe7-620104ec9df7"
      },
      "source": [
        "from matplotlib.gridspec import GridSpec\n",
        "\n",
        "f, axarr = plt.subplots(144,2,figsize=(50,50))\n",
        "\n",
        "for i in range(144):\n",
        "  for j in range(2):\n",
        "    if(j==0):\n",
        "      img=np.zeros([2,2,3])\n",
        "      channel=test_rgb_values[i,:]\n",
        "      for c in range(3):\n",
        "        img[:,:,c]=channel[c]\n",
        "      img=img.astype(np.uint8)\n",
        "      axarr[i,0].imshow(img)\n",
        "    else:\n",
        "      img=np.zeros([2,2,3])\n",
        "      channel=y_hat[i,:]\n",
        "      for c in range(3):\n",
        "        img[:,:,c]=channel[c]\n",
        "      img=img.astype(np.uint8)\n",
        "      axarr[i,1].imshow(img)\n",
        "# axarr[0,1].imshow(image_datas[1])\n",
        "# axarr[1,0].imshow(image_datas[2])\n",
        "# axarr[1,1].imshow(image_datas[3])\n",
        "f.tight_layout()\n",
        "plt.show()"
      ],
      "execution_count": 784,
      "outputs": [
        {
          "output_type": "stream",
          "text": [
            "/usr/local/lib/python3.7/dist-packages/ipykernel_launcher.py:24: UserWarning: Tight layout not applied. tight_layout cannot make axes height small enough to accommodate all axes decorations\n"
          ],
          "name": "stderr"
        },
        {
          "output_type": "display_data",
          "data": {
            "image/png": "[encoded data removed]",
            "text/plain": [
              "<Figure size 3600x3600 with 288 Axes>"
            ]
          },
          "metadata": {
            "tags": [],
            "needs_background": "light"
          }
        }
      ]
    }
  ]
}